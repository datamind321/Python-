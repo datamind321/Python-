{
 "cells": [
  {
   "cell_type": "code",
   "execution_count": 2,
   "id": "dd194845",
   "metadata": {},
   "outputs": [
    {
     "name": "stdout",
     "output_type": "stream",
     "text": [
      "Requirement already satisfied: mysqlclient in c:\\users\\dell\\anaconda3\\lib\\site-packages (2.1.1)\n"
     ]
    }
   ],
   "source": [
    "!pip install mysqlclient "
   ]
  },
  {
   "cell_type": "code",
   "execution_count": 4,
   "id": "173def3d",
   "metadata": {},
   "outputs": [
    {
     "name": "stdout",
     "output_type": "stream",
     "text": [
      "Requirement already satisfied: mysql-connector-python in c:\\users\\dell\\anaconda3\\lib\\site-packages (8.0.26)\n",
      "Requirement already satisfied: protobuf>=3.0.0 in c:\\users\\dell\\anaconda3\\lib\\site-packages (from mysql-connector-python) (4.21.2)\n"
     ]
    }
   ],
   "source": [
    "!pip install mysql-connector-python"
   ]
  },
  {
   "cell_type": "code",
   "execution_count": 6,
   "id": "d51948ae",
   "metadata": {},
   "outputs": [
    {
     "name": "stdout",
     "output_type": "stream",
     "text": [
      "Requirement already satisfied: pymysql in c:\\users\\dell\\anaconda3\\lib\\site-packages (1.0.2)\n"
     ]
    }
   ],
   "source": [
    "!pip install pymysql "
   ]
  },
  {
   "cell_type": "code",
   "execution_count": 50,
   "id": "0a443c13",
   "metadata": {
    "scrolled": false
   },
   "outputs": [
    {
     "name": "stdout",
     "output_type": "stream",
     "text": [
      "3 row(S) affected\n"
     ]
    }
   ],
   "source": [
    "import mysql.connector \n",
    "mydb= mysql.connector.connect(\n",
    "           host=\"localhost\",\n",
    "           port=3306,\n",
    "           user=\"root\",\n",
    "           password=\"1234567\",\n",
    "           database=\"mydb\"\n",
    "            )\n",
    "mycursor=mydb.cursor()\n",
    "#-----------CREATE A DATABASE--------------\n",
    "# mycursor.execute(\"CREATE DATABASE mydb\") \n",
    "#------------------------------------------\n",
    "# mycursor.execute(\"SHOW DATABASES\")\n",
    "#-----------------------------------------\n",
    "#-------------CREATE A TABLE_________________\n",
    "# mycursor.execute(\"create table user(name varchar(255),password varchar(80))\")\n",
    "#__________INSERT DATA INTO TABLE______________\n",
    "# sql=\"INSERT INTO user(name,password) values(%s,%s)\"\n",
    "# val=[\n",
    "#   ('Peter', 'Lowstreet 4'),\n",
    "#   ('Amy', 'Apple st 652'),\n",
    "#   ('Hannah', 'Mountain 21'),\n",
    "#   ('Michael', 'Valley 345'),\n",
    "#   ('Sandy', 'Ocean blvd 2'),\n",
    "#   ('Betty', 'Green Grass 1'),\n",
    "#   ('Richard', 'Sky st 331'),\n",
    "#   ('Susan', 'One way 98'),\n",
    "#   ('Vicky', 'Yellow Garden 2'),\n",
    "#   ('Ben', 'Park Lane 38'),\n",
    "#   ('William', 'Central st 954'),\n",
    "#   ('Chuck', 'Main Road 989'),\n",
    "#   ('Viola', 'Sideway 1633')\n",
    "# ]\n",
    "  \n",
    "# mycursor.executemany(sql,val)\n",
    "# mydb.commit()\n",
    "# print(mycursor.rowcount,\"record inserted\")\n",
    "#_____________SHOW DATA IN A TABLE______\n",
    "# mycursor.execute(\"SELECT * from user\") \n",
    "#________SELECT THE DATA_____________\n",
    "# sql=\"SELECT *FROM  user where password='Lowstreet 4'\"\n",
    "# sql=\"SELECT *FROM  user order by name \"\n",
    "#____________DELETE RECORDS IN TABLE__________\n",
    "# sql=\"DELETE FROM user where password='Sideway 1633' \"\n",
    "#__________DROP A TABLE_______________________\n",
    "# sql=\"DROP TABLE users\"\n",
    "# mycursor.execute(sql)\n",
    "#__________update a table______\n",
    "sql=\"UPDATE user set password='terebin' where password='Main Road 989'\"\n",
    "mycursor.execute(sql)\n",
    "mydb.commit()\n",
    "print(mycursor.rowcount,\"row(S) affected\")\n",
    "# myresult=mycursor.fetchall()\n",
    "\n",
    "# for x in myresult:\n",
    "#     print(x)\n",
    "# print(mydb)  "
   ]
  }
 ],
 "metadata": {
  "kernelspec": {
   "display_name": "Python 3",
   "language": "python",
   "name": "python3"
  },
  "language_info": {
   "codemirror_mode": {
    "name": "ipython",
    "version": 3
   },
   "file_extension": ".py",
   "mimetype": "text/x-python",
   "name": "python",
   "nbconvert_exporter": "python",
   "pygments_lexer": "ipython3",
   "version": "3.8.8"
  }
 },
 "nbformat": 4,
 "nbformat_minor": 5
}
