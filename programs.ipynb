{
 "cells": [
  {
   "cell_type": "code",
   "execution_count": 6,
   "id": "5e4fe1a7",
   "metadata": {},
   "outputs": [
    {
     "name": "stdout",
     "output_type": "stream",
     "text": [
      "30\n"
     ]
    }
   ],
   "source": [
    "#add two number\n",
    "a=10\n",
    "b=20\n",
    "c=a+b\n",
    "print(c)"
   ]
  },
  {
   "cell_type": "code",
   "execution_count": 7,
   "id": "b576565d",
   "metadata": {},
   "outputs": [
    {
     "name": "stdout",
     "output_type": "stream",
     "text": [
      "enter a number:3\n",
      "enter a number:3\n",
      "sum of 6\n"
     ]
    }
   ],
   "source": [
    "#by user input:\n",
    "a=int(input(\"enter a number:\"))\n",
    "b=int(input(\"enter a number:\"))\n",
    "c=a+b\n",
    "print(\"sum of\",c)\n"
   ]
  },
  {
   "cell_type": "code",
   "execution_count": 8,
   "id": "d84ce383",
   "metadata": {},
   "outputs": [],
   "source": [
    "#factorial a num:\n",
    "def fact(n):\n",
    "    return 1 if(n==1 or n==0) else n*fact(n-1);"
   ]
  },
  {
   "cell_type": "code",
   "execution_count": 9,
   "id": "5216ab50",
   "metadata": {},
   "outputs": [
    {
     "name": "stdout",
     "output_type": "stream",
     "text": [
      "enter a num3\n",
      "factorial of num is 6\n"
     ]
    }
   ],
   "source": [
    "n=int(input(\"enter a num\"))\n",
    "print(\"factorial of num is\",fact(n))"
   ]
  },
  {
   "cell_type": "code",
   "execution_count": 5,
   "id": "f84c9606",
   "metadata": {},
   "outputs": [],
   "source": [
    "# by using in built function(factorial)\n"
   ]
  },
  {
   "cell_type": "code",
   "execution_count": 10,
   "id": "7c5f32b8",
   "metadata": {},
   "outputs": [],
   "source": [
    "import math"
   ]
  },
  {
   "cell_type": "code",
   "execution_count": 11,
   "id": "dcefd618",
   "metadata": {},
   "outputs": [],
   "source": [
    "def factorial(n):\n",
    "    return(math.factorial(n))"
   ]
  },
  {
   "cell_type": "code",
   "execution_count": 12,
   "id": "83c703c4",
   "metadata": {},
   "outputs": [
    {
     "name": "stdout",
     "output_type": "stream",
     "text": [
      "factorial of num is 5040\n"
     ]
    }
   ],
   "source": [
    "n=7\n",
    "print(\"factorial of num is\",factorial(n))"
   ]
  },
  {
   "cell_type": "code",
   "execution_count": 13,
   "id": "90fe6002",
   "metadata": {},
   "outputs": [],
   "source": [
    "# max of two num:\n",
    "def max(a,b):\n",
    "    if a>=b:\n",
    "        return a\n",
    "    else:\n",
    "        return b"
   ]
  },
  {
   "cell_type": "code",
   "execution_count": 14,
   "id": "c8bcc6f5",
   "metadata": {},
   "outputs": [
    {
     "name": "stdout",
     "output_type": "stream",
     "text": [
      "4\n"
     ]
    }
   ],
   "source": [
    "a=2\n",
    "b=4\n",
    "print(max(a,b))"
   ]
  },
  {
   "cell_type": "code",
   "execution_count": 15,
   "id": "676418b3",
   "metadata": {},
   "outputs": [],
   "source": [
    "#simple interst:\n",
    "def simple_interest(p,t,r):\n",
    "    print(\"the principle is\",p)\n",
    "    print(\"the time is\",t)\n",
    "    print(\"the rate is\",r)\n",
    "    \n",
    "    si=(p*t*r)/100\n",
    "    print(\"the simpke interest is\",si)\n",
    "    return si\n",
    "    "
   ]
  },
  {
   "cell_type": "code",
   "execution_count": 16,
   "id": "ceb0d110",
   "metadata": {},
   "outputs": [
    {
     "name": "stdout",
     "output_type": "stream",
     "text": [
      "the principle is 8\n",
      "the time is 6\n",
      "the rate is 8\n",
      "the simpke interest is 3.84\n"
     ]
    },
    {
     "data": {
      "text/plain": [
       "3.84"
      ]
     },
     "execution_count": 16,
     "metadata": {},
     "output_type": "execute_result"
    }
   ],
   "source": [
    "simple_interest(8,6,8)"
   ]
  },
  {
   "cell_type": "code",
   "execution_count": 17,
   "id": "7cc0ca2a",
   "metadata": {},
   "outputs": [],
   "source": [
    "#armstrong number:\n",
    "def isArmstrong(x):\n",
    "    n=order(x)\n",
    "    temp=x\n",
    "    sum1=0\n",
    "    while(temp!=0):\n",
    "        r=temp%10\n",
    "        sum1=sum1+power(x,y) \n",
    "        temp=temp // 10\n",
    "        return (sum1==x)"
   ]
  },
  {
   "cell_type": "code",
   "execution_count": 18,
   "id": "08028e44",
   "metadata": {},
   "outputs": [],
   "source": [
    "def order(x):\n",
    "    n=0\n",
    "    while(x!=0):\n",
    "        n=n+1\n",
    "        x=x//10 \n",
    "        return n "
   ]
  },
  {
   "cell_type": "code",
   "execution_count": 19,
   "id": "aea80b93",
   "metadata": {},
   "outputs": [
    {
     "ename": "NameError",
     "evalue": "name 'power' is not defined",
     "output_type": "error",
     "traceback": [
      "\u001b[1;31m---------------------------------------------------------------------------\u001b[0m",
      "\u001b[1;31mNameError\u001b[0m                                 Traceback (most recent call last)",
      "\u001b[1;32m<ipython-input-19-4d58dc635527>\u001b[0m in \u001b[0;36m<module>\u001b[1;34m\u001b[0m\n\u001b[0;32m      1\u001b[0m \u001b[0mx\u001b[0m\u001b[1;33m=\u001b[0m\u001b[1;36m153\u001b[0m\u001b[1;33m\u001b[0m\u001b[1;33m\u001b[0m\u001b[0m\n\u001b[1;32m----> 2\u001b[1;33m \u001b[0mprint\u001b[0m\u001b[1;33m(\u001b[0m\u001b[0misArmstrong\u001b[0m\u001b[1;33m(\u001b[0m\u001b[0mx\u001b[0m\u001b[1;33m)\u001b[0m\u001b[1;33m)\u001b[0m\u001b[1;33m\u001b[0m\u001b[1;33m\u001b[0m\u001b[0m\n\u001b[0m",
      "\u001b[1;32m<ipython-input-17-a83a55eb112a>\u001b[0m in \u001b[0;36misArmstrong\u001b[1;34m(x)\u001b[0m\n\u001b[0;32m      6\u001b[0m     \u001b[1;32mwhile\u001b[0m\u001b[1;33m(\u001b[0m\u001b[0mtemp\u001b[0m\u001b[1;33m!=\u001b[0m\u001b[1;36m0\u001b[0m\u001b[1;33m)\u001b[0m\u001b[1;33m:\u001b[0m\u001b[1;33m\u001b[0m\u001b[1;33m\u001b[0m\u001b[0m\n\u001b[0;32m      7\u001b[0m         \u001b[0mr\u001b[0m\u001b[1;33m=\u001b[0m\u001b[0mtemp\u001b[0m\u001b[1;33m%\u001b[0m\u001b[1;36m10\u001b[0m\u001b[1;33m\u001b[0m\u001b[1;33m\u001b[0m\u001b[0m\n\u001b[1;32m----> 8\u001b[1;33m         \u001b[0msum1\u001b[0m\u001b[1;33m=\u001b[0m\u001b[0msum1\u001b[0m\u001b[1;33m+\u001b[0m\u001b[0mpower\u001b[0m\u001b[1;33m(\u001b[0m\u001b[0mx\u001b[0m\u001b[1;33m,\u001b[0m\u001b[0my\u001b[0m\u001b[1;33m)\u001b[0m\u001b[1;33m\u001b[0m\u001b[1;33m\u001b[0m\u001b[0m\n\u001b[0m\u001b[0;32m      9\u001b[0m         \u001b[0mtemp\u001b[0m\u001b[1;33m=\u001b[0m\u001b[0mtemp\u001b[0m \u001b[1;33m//\u001b[0m \u001b[1;36m10\u001b[0m\u001b[1;33m\u001b[0m\u001b[1;33m\u001b[0m\u001b[0m\n\u001b[0;32m     10\u001b[0m         \u001b[1;32mreturn\u001b[0m \u001b[1;33m(\u001b[0m\u001b[0msum1\u001b[0m\u001b[1;33m==\u001b[0m\u001b[0mx\u001b[0m\u001b[1;33m)\u001b[0m\u001b[1;33m\u001b[0m\u001b[1;33m\u001b[0m\u001b[0m\n",
      "\u001b[1;31mNameError\u001b[0m: name 'power' is not defined"
     ]
    }
   ],
   "source": [
    "x=153\n",
    "print(isArmstrong(x))"
   ]
  },
  {
   "cell_type": "code",
   "execution_count": 20,
   "id": "e08d53ed",
   "metadata": {},
   "outputs": [],
   "source": [
    "def power(x,y):\n",
    "    if y==0:\n",
    "        return 1\n",
    "    if y%2==0:\n",
    "        return power(x,y //2)*power(x,y //2)\n",
    "    return x*power(x,y //2)*power(x,y //2)  \n"
   ]
  },
  {
   "cell_type": "code",
   "execution_count": 21,
   "id": "4ea95a65",
   "metadata": {},
   "outputs": [],
   "source": [
    "def order(x):\n",
    "    n=0\n",
    "    while(x!=0):\n",
    "        n=n+1\n",
    "        x=x//10 \n",
    "        return n "
   ]
  },
  {
   "cell_type": "code",
   "execution_count": 22,
   "id": "1097abd1",
   "metadata": {},
   "outputs": [],
   "source": [
    "def isArmstrong(x):\n",
    "    n=order(x)\n",
    "    temp=x\n",
    "    sum1=0\n",
    "    while(temp!=0):\n",
    "        r=temp%10\n",
    "        sum1=sum1+power(r,n) \n",
    "        temp=temp // 10\n",
    "        return (sum1==x) "
   ]
  },
  {
   "cell_type": "code",
   "execution_count": 23,
   "id": "51043de2",
   "metadata": {},
   "outputs": [
    {
     "name": "stdout",
     "output_type": "stream",
     "text": [
      "False\n"
     ]
    }
   ],
   "source": [
    "x=153\n",
    "print(isArmstrong(x))"
   ]
  },
  {
   "cell_type": "code",
   "execution_count": 24,
   "id": "58d19492",
   "metadata": {},
   "outputs": [
    {
     "name": "stdout",
     "output_type": "stream",
     "text": [
      "False\n"
     ]
    }
   ],
   "source": [
    "x=1253\n",
    "print(isArmstrong(x))"
   ]
  },
  {
   "cell_type": "code",
   "execution_count": 25,
   "id": "e765d207",
   "metadata": {},
   "outputs": [
    {
     "name": "stdout",
     "output_type": "stream",
     "text": [
      "False\n"
     ]
    }
   ],
   "source": [
    "x=1634\n",
    "print(isArmstrong(x))"
   ]
  },
  {
   "cell_type": "code",
   "execution_count": 26,
   "id": "418ddd48",
   "metadata": {},
   "outputs": [
    {
     "name": "stdout",
     "output_type": "stream",
     "text": [
      "enter a value3\n",
      "area of circle is 28.259999999999998\n"
     ]
    }
   ],
   "source": [
    "# area of circle \n",
    "r=float(input(\"enter a value\"))\n",
    "area = 3.14*r*r\n",
    "print(\"area of circle is\",area)"
   ]
  },
  {
   "cell_type": "code",
   "execution_count": 28,
   "id": "c2b0e4c1",
   "metadata": {},
   "outputs": [
    {
     "name": "stdout",
     "output_type": "stream",
     "text": [
      "false\n"
     ]
    }
   ],
   "source": [
    "n=1\n",
    "prime_flag=0\n",
    "if (n>1):\n",
    "    for i in range(2,int(sqrt(n)) +1):\n",
    "        if(n%i==0):\n",
    "            prime_flag=1\n",
    "            break\n",
    "        if(prime_flag==0):\n",
    "            print(\"true\")\n",
    "        else:\n",
    "            print(\"false\")\n",
    "else:\n",
    "            print(\"false\")"
   ]
  },
  {
   "cell_type": "code",
   "execution_count": 29,
   "id": "fd984d50",
   "metadata": {},
   "outputs": [
    {
     "name": "stdout",
     "output_type": "stream",
     "text": [
      "enter a chsractera\n"
     ]
    },
    {
     "data": {
      "text/plain": [
       "97"
      ]
     },
     "execution_count": 29,
     "metadata": {},
     "output_type": "execute_result"
    }
   ],
   "source": [
    "#ASCII value of a character:\n",
    "a=input(\"enter a chsracter\") \n",
    "ord(a)"
   ]
  },
  {
   "cell_type": "code",
   "execution_count": 33,
   "id": "ade4441d",
   "metadata": {},
   "outputs": [],
   "source": [
    "# square of sum first n natural number:\n",
    "def squaresum(n):\n",
    "    sm = 0\n",
    "    for i in range(1, n+1):\n",
    "        sm = sm + (i*i)\n",
    "        return sm "
   ]
  },
  {
   "cell_type": "code",
   "execution_count": 34,
   "id": "d5e00497",
   "metadata": {},
   "outputs": [
    {
     "name": "stdout",
     "output_type": "stream",
     "text": [
      "1\n"
     ]
    }
   ],
   "source": [
    "n = 5\n",
    "print(squaresum(n))"
   ]
  },
  {
   "cell_type": "code",
   "execution_count": 35,
   "id": "55b59912",
   "metadata": {},
   "outputs": [],
   "source": [
    "# square of sum first n natural number:\n",
    "def squaresum(n):\n",
    "    sm = 0\n",
    "    for i in range(1, n+1):\n",
    "        sm = sm + (i*i)\n",
    "        return sm \n",
    "    "
   ]
  },
  {
   "cell_type": "code",
   "execution_count": 36,
   "id": "0a705ed6",
   "metadata": {},
   "outputs": [
    {
     "name": "stdout",
     "output_type": "stream",
     "text": [
      "1\n"
     ]
    }
   ],
   "source": [
    "n = 5\n",
    "print(squaresum(n))"
   ]
  },
  {
   "cell_type": "code",
   "execution_count": 3,
   "id": "e1f0a748",
   "metadata": {},
   "outputs": [],
   "source": [
    "def sqrsum(n):\n",
    "    return (n *(n+1) / 2) * (2* n+1) /3 "
   ]
  },
  {
   "cell_type": "code",
   "execution_count": 4,
   "id": "9837370f",
   "metadata": {},
   "outputs": [
    {
     "name": "stdout",
     "output_type": "stream",
     "text": [
      "30.0\n"
     ]
    }
   ],
   "source": [
    "n=4\n",
    "print(sqrsum(n))"
   ]
  },
  {
   "cell_type": "code",
   "execution_count": 46,
   "id": "c0548b5a",
   "metadata": {},
   "outputs": [],
   "source": [
    "def sqrsumm(n):\n",
    "     return (n*(n+1)*(2*n+1)) //6"
   ]
  },
  {
   "cell_type": "code",
   "execution_count": 47,
   "id": "485f9ee9",
   "metadata": {},
   "outputs": [
    {
     "name": "stdout",
     "output_type": "stream",
     "text": [
      "55\n"
     ]
    }
   ],
   "source": [
    "n=5\n",
    "print(sqrsumm(n))"
   ]
  },
  {
   "cell_type": "code",
   "execution_count": 44,
   "id": "c19a3d4f",
   "metadata": {},
   "outputs": [],
   "source": [
    "# cube sum of first n natural number \n",
    "def sumofseries(n):\n",
    "    x= (n*(n+1) /2)\n",
    "    return (int)(x*x) "
   ]
  },
  {
   "cell_type": "code",
   "execution_count": 45,
   "id": "4f6e5def",
   "metadata": {},
   "outputs": [
    {
     "name": "stdout",
     "output_type": "stream",
     "text": [
      "784\n"
     ]
    }
   ],
   "source": [
    "n=7\n",
    "print(sumofseries(n))"
   ]
  },
  {
   "cell_type": "code",
   "execution_count": 42,
   "id": "73950019",
   "metadata": {},
   "outputs": [],
   "source": [
    " import math \n",
    "def isPerfectSquare(x):\n",
    "        s= int(math.sqrt(x))\n",
    "        return s*s==x"
   ]
  },
  {
   "cell_type": "code",
   "execution_count": 43,
   "id": "04fc4955",
   "metadata": {},
   "outputs": [
    {
     "name": "stdout",
     "output_type": "stream",
     "text": [
      "1 is a fibonacci number\n",
      "2 is a fibonacci number\n",
      "3 is a fibonacci number\n",
      "4 is not a fibonacci number\n",
      "5 is a fibonacci number\n",
      "6 is not a fibonacci number\n",
      "7 is not a fibonacci number\n",
      "8 is a fibonacci number\n",
      "9 is not a fibonacci number\n",
      "10 is not a fibonacci number\n"
     ]
    }
   ],
   "source": [
    "def isFibonacci(n):\n",
    "    return isPerfectSquare(5*n*n+4) or isPerfectSquare(5*n*n-4)\n",
    "for i in range(1,11):\n",
    "    if(isFibonacci(i) == 1):\n",
    "        print (i,\"is a fibonacci number\")\n",
    "    else:\n",
    "        print(i,\"is not a fibonacci number\") "
   ]
  },
  {
   "cell_type": "code",
   "execution_count": 40,
   "id": "df4a4aa9",
   "metadata": {},
   "outputs": [
    {
     "name": "stdout",
     "output_type": "stream",
     "text": [
      "sum of array is 43\n"
     ]
    }
   ],
   "source": [
    "arr =[] \n",
    "arr=[12,3,14,5,9]\n",
    "ans = sum(arr) \n",
    "print(\"sum of array is\",ans)"
   ]
  }
 ],
 "metadata": {
  "kernelspec": {
   "display_name": "Python 3",
   "language": "python",
   "name": "python3"
  },
  "language_info": {
   "codemirror_mode": {
    "name": "ipython",
    "version": 3
   },
   "file_extension": ".py",
   "mimetype": "text/x-python",
   "name": "python",
   "nbconvert_exporter": "python",
   "pygments_lexer": "ipython3",
   "version": "3.8.8"
  }
 },
 "nbformat": 4,
 "nbformat_minor": 5
}
