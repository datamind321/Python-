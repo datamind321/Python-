{
 "cells": [
  {
   "cell_type": "code",
   "execution_count": 23,
   "id": "609127d6",
   "metadata": {},
   "outputs": [
    {
     "name": "stdout",
     "output_type": "stream",
     "text": [
      "enter a number2.89\n",
      "the square root of 2.890 is 1.700\n"
     ]
    }
   ],
   "source": [
    " # square root of a number \n",
    "num = float(input(\"enter a number\")) \n",
    "num_sqrt = num ** 0.5 \n",
    "print (\"the square root of %0.3f is %0.3f\"%(num,num_sqrt)) "
   ]
  },
  {
   "cell_type": "code",
   "execution_count": 21,
   "id": "9f8b5f9a",
   "metadata": {},
   "outputs": [
    {
     "name": "stdout",
     "output_type": "stream",
     "text": [
      "enter first side3\n",
      "enter second side5\n",
      "enter third side7\n",
      "the area of triangle is 6.495\n"
     ]
    }
   ],
   "source": [
    "#area of triangle \n",
    "a = float(input(\"enter first side\"))\n",
    "b = float(input(\"enter second side\"))\n",
    "c = float(input(\"enter third side\")) \n",
    "s = (a+b+c)/2 \n",
    "area = (s*(s-a)*(s-b)*(s-c)) ** 0.5 \n",
    "print('the area of triangle is %0.3f'%area) \n",
    "\n"
   ]
  },
  {
   "cell_type": "code",
   "execution_count": 20,
   "id": "85c7d9d1",
   "metadata": {},
   "outputs": [
    {
     "name": "stdout",
     "output_type": "stream",
     "text": [
      "enter a value4\n",
      "enter a value5\n",
      "the value of x after swapping : 5\n",
      "the value of y after swapping : 4\n"
     ]
    }
   ],
   "source": [
    "# swap two numbers \n",
    "\n",
    "x = int(input(\"enter a value\"))\n",
    "y = int(input(\"enter a value\")) \n",
    "temp=x\n",
    "x=y\n",
    "y=temp\n",
    "print('the value of x after swapping : {}'.format(x)) \n",
    "print('the value of y after swapping : {}'.format(y))"
   ]
  },
  {
   "cell_type": "code",
   "execution_count": 19,
   "id": "8fecf1eb",
   "metadata": {},
   "outputs": [
    {
     "name": "stdout",
     "output_type": "stream",
     "text": [
      "enter a number3\n",
      "3 is odd\n"
     ]
    }
   ],
   "source": [
    "# number is odd or even \n",
    "num = int(input(\"enter a number\"))\n",
    "if(num%2) == 0:\n",
    "    print(\"{0} is even\".format(num))\n",
    "else:\n",
    "        print(\"{0} is odd\".format(num))"
   ]
  },
  {
   "cell_type": "code",
   "execution_count": 18,
   "id": "f719b43a",
   "metadata": {},
   "outputs": [
    {
     "name": "stdout",
     "output_type": "stream",
     "text": [
      "2012 is not a leap year\n"
     ]
    }
   ],
   "source": [
    "# leap year \n",
    "year = 2012\n",
    "if(year%4)==0:\n",
    "    if(year%400)==0:\n",
    "        print(\"{0} is a leap year\".format(year))\n",
    "    else:\n",
    "        print(\"{0} is not a leap year\".format(year))\n",
    "           \n",
    "    "
   ]
  },
  {
   "cell_type": "code",
   "execution_count": 13,
   "id": "1b618f19",
   "metadata": {},
   "outputs": [
    {
     "data": {
      "text/plain": [
       "32"
      ]
     },
     "execution_count": 13,
     "metadata": {},
     "output_type": "execute_result"
    }
   ],
   "source": [
    "x=8\n",
    "x<<2\n"
   ]
  },
  {
   "cell_type": "code",
   "execution_count": 12,
   "id": "adb65f8b",
   "metadata": {},
   "outputs": [
    {
     "data": {
      "text/plain": [
       "5"
      ]
     },
     "execution_count": 12,
     "metadata": {},
     "output_type": "execute_result"
    }
   ],
   "source": [
    "a=5\n",
    "b=6\n",
    "a%b"
   ]
  },
  {
   "cell_type": "code",
   "execution_count": 11,
   "id": "a53af63c",
   "metadata": {},
   "outputs": [
    {
     "name": "stdout",
     "output_type": "stream",
     "text": [
      "small\n"
     ]
    }
   ],
   "source": [
    " a= 7 \n",
    "if a>10:\n",
    "    print(\"great\")\n",
    "else:\n",
    "    print(\"small\") "
   ]
  },
  {
   "cell_type": "code",
   "execution_count": 9,
   "id": "b1a851f3",
   "metadata": {},
   "outputs": [
    {
     "name": "stdout",
     "output_type": "stream",
     "text": [
      "c is greater\n"
     ]
    }
   ],
   "source": [
    "a=10\n",
    "b=20 \n",
    "c=30 \n",
    "if (a>b) & (a>c):\n",
    "    print('a is greater')\n",
    "if (b>a) & (b>c):\n",
    "    print('b is greater') \n",
    "else:\n",
    "    print('c is greater') "
   ]
  },
  {
   "cell_type": "code",
   "execution_count": 10,
   "id": "93767096",
   "metadata": {},
   "outputs": [
    {
     "name": "stdout",
     "output_type": "stream",
     "text": [
      "enter mark23\n",
      "you are fail\n"
     ]
    }
   ],
   "source": [
    "mark=int(input('enter mark'))\n",
    "if mark>80 and mark<=100:\n",
    "    print('grade A')\n",
    "elif mark>60 and mark<=80:\n",
    "    print('grade B')\n",
    "elif mark>30 and mark<=60:\n",
    "    print('grade C') \n",
    "else:\n",
    "    print('you are fail')"
   ]
  },
  {
   "cell_type": "code",
   "execution_count": 9,
   "id": "42098094",
   "metadata": {},
   "outputs": [
    {
     "name": "stdout",
     "output_type": "stream",
     "text": [
      "odd\n"
     ]
    }
   ],
   "source": [
    "a=9\n",
    "if a%2==0:\n",
    "    print('even')\n",
    "else:\n",
    "    print('odd') "
   ]
  },
  {
   "cell_type": "code",
   "execution_count": 8,
   "id": "a4de0a0b",
   "metadata": {},
   "outputs": [
    {
     "name": "stdout",
     "output_type": "stream",
     "text": [
      "s\n",
      "p\n",
      "r\n",
      "t\n"
     ]
    }
   ],
   "source": [
    "a='sparta' \n",
    "for i in a: \n",
    "    if i=='a':\n",
    "        continue\n",
    "    print(i) "
   ]
  },
  {
   "cell_type": "code",
   "execution_count": 7,
   "id": "0034d0ad",
   "metadata": {},
   "outputs": [
    {
     "data": {
      "text/plain": [
       "[2, 3, 4, 5, 2, 3, 4, 5, 2, 3, 4, 5, 'raj']"
      ]
     },
     "execution_count": 7,
     "metadata": {},
     "output_type": "execute_result"
    }
   ],
   "source": [
    "list=[2,3,4,5]\n",
    "list2=['raj'] \n",
    "list+list2\n",
    "list*3+list2 "
   ]
  },
  {
   "cell_type": "code",
   "execution_count": 6,
   "id": "e265d42b",
   "metadata": {},
   "outputs": [
    {
     "name": "stdout",
     "output_type": "stream",
     "text": [
      "enter rows4\n",
      "\n",
      "\n",
      "1\n",
      "22\n",
      "333\n",
      "4444"
     ]
    }
   ],
   "source": [
    "rows=int(input(\"enter rows\"))\n",
    "for i in range(0,rows+1):\n",
    "    print()\n",
    "    for j in range(i):\n",
    "        print(i,end='') "
   ]
  },
  {
   "cell_type": "code",
   "execution_count": 5,
   "id": "b178b52c",
   "metadata": {},
   "outputs": [
    {
     "name": "stdout",
     "output_type": "stream",
     "text": [
      "enter range5\n",
      "1\n",
      "3\n"
     ]
    }
   ],
   "source": [
    "n=int(input(\"enter range\")) \n",
    "for i in range(1,n,2):\n",
    "    print(i)"
   ]
  },
  {
   "cell_type": "code",
   "execution_count": 4,
   "id": "2839c90f",
   "metadata": {},
   "outputs": [
    {
     "name": "stdout",
     "output_type": "stream",
     "text": [
      "enter number2\n",
      "2 * 1 = 2\n",
      "2 * 2 = 4\n",
      "2 * 3 = 6\n",
      "2 * 4 = 8\n",
      "2 * 5 = 10\n",
      "2 * 6 = 12\n",
      "2 * 7 = 14\n",
      "2 * 8 = 16\n",
      "2 * 9 = 18\n",
      "2 * 10 = 20\n"
     ]
    }
   ],
   "source": [
    "n=int(input(\"enter number\")) \n",
    "for i in range(1,11):\n",
    "    print(n,\"*\",i,\"=\",n*i) "
   ]
  },
  {
   "cell_type": "code",
   "execution_count": 1,
   "id": "09841b2e",
   "metadata": {},
   "outputs": [
    {
     "name": "stdout",
     "output_type": "stream",
     "text": [
      "enter number3\n",
      "3 * 1 = 3\n",
      "3 * 2 = 6\n",
      "3 * 3 = 9\n",
      "3 * 4 = 12\n",
      "3 * 5 = 15\n",
      "3 * 6 = 18\n",
      "3 * 7 = 21\n",
      "3 * 8 = 24\n",
      "3 * 9 = 27\n",
      "3 * 10 = 30\n"
     ]
    }
   ],
   "source": [
    "n=int(input(\"enter number\"))\n",
    "i=1\n",
    "while i<=10:\n",
    "    print(n,\"*\",i,\"=\",n*i) \n",
    "    i=i+1 "
   ]
  },
  {
   "cell_type": "code",
   "execution_count": 3,
   "id": "d78f17a7",
   "metadata": {},
   "outputs": [
    {
     "name": "stdout",
     "output_type": "stream",
     "text": [
      "3.4641016151377544\n"
     ]
    }
   ],
   "source": [
    "import math \n",
    "print(math.sqrt(12)) "
   ]
  },
  {
   "cell_type": "code",
   "execution_count": 48,
   "id": "8c01b4bc",
   "metadata": {},
   "outputs": [
    {
     "name": "stdout",
     "output_type": "stream",
     "text": [
      "120\n"
     ]
    }
   ],
   "source": [
    "print(math.factorial(5)) "
   ]
  },
  {
   "cell_type": "code",
   "execution_count": 24,
   "id": "cea63e3e",
   "metadata": {},
   "outputs": [
    {
     "name": "stdout",
     "output_type": "stream",
     "text": [
      "                                  2022\n",
      "\n",
      "      January                   February                   March\n",
      "Mo Tu We Th Fr Sa Su      Mo Tu We Th Fr Sa Su      Mo Tu We Th Fr Sa Su\n",
      "                1  2          1  2  3  4  5  6          1  2  3  4  5  6\n",
      " 3  4  5  6  7  8  9       7  8  9 10 11 12 13       7  8  9 10 11 12 13\n",
      "10 11 12 13 14 15 16      14 15 16 17 18 19 20      14 15 16 17 18 19 20\n",
      "17 18 19 20 21 22 23      21 22 23 24 25 26 27      21 22 23 24 25 26 27\n",
      "24 25 26 27 28 29 30      28                        28 29 30 31\n",
      "31\n",
      "\n",
      "       April                      May                       June\n",
      "Mo Tu We Th Fr Sa Su      Mo Tu We Th Fr Sa Su      Mo Tu We Th Fr Sa Su\n",
      "             1  2  3                         1             1  2  3  4  5\n",
      " 4  5  6  7  8  9 10       2  3  4  5  6  7  8       6  7  8  9 10 11 12\n",
      "11 12 13 14 15 16 17       9 10 11 12 13 14 15      13 14 15 16 17 18 19\n",
      "18 19 20 21 22 23 24      16 17 18 19 20 21 22      20 21 22 23 24 25 26\n",
      "25 26 27 28 29 30         23 24 25 26 27 28 29      27 28 29 30\n",
      "                          30 31\n",
      "\n",
      "        July                     August                  September\n",
      "Mo Tu We Th Fr Sa Su      Mo Tu We Th Fr Sa Su      Mo Tu We Th Fr Sa Su\n",
      "             1  2  3       1  2  3  4  5  6  7                1  2  3  4\n",
      " 4  5  6  7  8  9 10       8  9 10 11 12 13 14       5  6  7  8  9 10 11\n",
      "11 12 13 14 15 16 17      15 16 17 18 19 20 21      12 13 14 15 16 17 18\n",
      "18 19 20 21 22 23 24      22 23 24 25 26 27 28      19 20 21 22 23 24 25\n",
      "25 26 27 28 29 30 31      29 30 31                  26 27 28 29 30\n",
      "\n",
      "      October                   November                  December\n",
      "Mo Tu We Th Fr Sa Su      Mo Tu We Th Fr Sa Su      Mo Tu We Th Fr Sa Su\n",
      "                1  2          1  2  3  4  5  6                1  2  3  4\n",
      " 3  4  5  6  7  8  9       7  8  9 10 11 12 13       5  6  7  8  9 10 11\n",
      "10 11 12 13 14 15 16      14 15 16 17 18 19 20      12 13 14 15 16 17 18\n",
      "17 18 19 20 21 22 23      21 22 23 24 25 26 27      19 20 21 22 23 24 25\n",
      "24 25 26 27 28 29 30      28 29 30                  26 27 28 29 30 31\n",
      "31\n"
     ]
    }
   ],
   "source": [
    "import calendar \n",
    "s=calendar.prcal(2022)"
   ]
  }
 ],
 "metadata": {
  "kernelspec": {
   "display_name": "Python 3",
   "language": "python",
   "name": "python3"
  },
  "language_info": {
   "codemirror_mode": {
    "name": "ipython",
    "version": 3
   },
   "file_extension": ".py",
   "mimetype": "text/x-python",
   "name": "python",
   "nbconvert_exporter": "python",
   "pygments_lexer": "ipython3",
   "version": "3.8.8"
  }
 },
 "nbformat": 4,
 "nbformat_minor": 5
}
