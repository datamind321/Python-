{
 "cells": [
  {
   "cell_type": "code",
   "execution_count": 1,
   "id": "45ff8411",
   "metadata": {},
   "outputs": [],
   "source": [
    "#oops in python \n",
    "# object oriented programming language \n"
   ]
  },
  {
   "cell_type": "code",
   "execution_count": 9,
   "id": "7de93427",
   "metadata": {},
   "outputs": [],
   "source": [
    "class Phone:\n",
    "    def make_call(self):\n",
    "        print(\"making phone calls\") \n",
    "    def play_games(self):\n",
    "            print(\"playing games\") "
   ]
  },
  {
   "cell_type": "code",
   "execution_count": 10,
   "id": "c6ff97c5",
   "metadata": {},
   "outputs": [],
   "source": [
    "p1=Phone()"
   ]
  },
  {
   "cell_type": "code",
   "execution_count": 11,
   "id": "05ad2300",
   "metadata": {},
   "outputs": [
    {
     "name": "stdout",
     "output_type": "stream",
     "text": [
      "making phone calls\n"
     ]
    }
   ],
   "source": [
    "p1.make_call()"
   ]
  },
  {
   "cell_type": "code",
   "execution_count": 13,
   "id": "522ab7b7",
   "metadata": {},
   "outputs": [
    {
     "name": "stdout",
     "output_type": "stream",
     "text": [
      "playing games\n"
     ]
    }
   ],
   "source": [
    "p1.play_games()"
   ]
  },
  {
   "cell_type": "code",
   "execution_count": 14,
   "id": "682e59be",
   "metadata": {},
   "outputs": [],
   "source": [
    "#adding parameter to the class"
   ]
  },
  {
   "cell_type": "code",
   "execution_count": 21,
   "id": "75123540",
   "metadata": {},
   "outputs": [],
   "source": [
    "class phone:\n",
    "        def set_color(self,color):\n",
    "            self.color=color\n",
    "        def set_cost(self,cost):\n",
    "            self.cost=cost\n",
    "        def show_color(self):\n",
    "            return self.color \n",
    "        def show_cost(self):\n",
    "            return self.cost \n",
    "        def make_call(self):\n",
    "            print(\"making phone calls\") \n",
    "        def play_games(self):\n",
    "            print(\"playing games\") "
   ]
  },
  {
   "cell_type": "code",
   "execution_count": 23,
   "id": "5f152e73",
   "metadata": {},
   "outputs": [],
   "source": [
    "p2=phone()"
   ]
  },
  {
   "cell_type": "code",
   "execution_count": 25,
   "id": "6892e684",
   "metadata": {},
   "outputs": [],
   "source": [
    "p2.set_color('blue')"
   ]
  },
  {
   "cell_type": "code",
   "execution_count": 27,
   "id": "24efc751",
   "metadata": {},
   "outputs": [
    {
     "data": {
      "text/plain": [
       "'blue'"
      ]
     },
     "execution_count": 27,
     "metadata": {},
     "output_type": "execute_result"
    }
   ],
   "source": [
    "p2.show_color()"
   ]
  },
  {
   "cell_type": "code",
   "execution_count": 30,
   "id": "acc74657",
   "metadata": {},
   "outputs": [],
   "source": [
    "p2.set_cost(5000)"
   ]
  },
  {
   "cell_type": "code",
   "execution_count": 32,
   "id": "d48c0d36",
   "metadata": {},
   "outputs": [
    {
     "data": {
      "text/plain": [
       "5000"
      ]
     },
     "execution_count": 32,
     "metadata": {},
     "output_type": "execute_result"
    }
   ],
   "source": [
    "p2.show_cost()"
   ]
  },
  {
   "cell_type": "code",
   "execution_count": 34,
   "id": "1e1a3ac9",
   "metadata": {},
   "outputs": [
    {
     "name": "stdout",
     "output_type": "stream",
     "text": [
      "making phone calls\n"
     ]
    }
   ],
   "source": [
    "p2.make_call()"
   ]
  },
  {
   "cell_type": "code",
   "execution_count": 36,
   "id": "5aa40f6a",
   "metadata": {},
   "outputs": [
    {
     "name": "stdout",
     "output_type": "stream",
     "text": [
      "playing games\n"
     ]
    }
   ],
   "source": [
    "p2.play_games()"
   ]
  },
  {
   "cell_type": "code",
   "execution_count": 38,
   "id": "17773f90",
   "metadata": {},
   "outputs": [],
   "source": [
    "#creating a class with constructor "
   ]
  },
  {
   "cell_type": "code",
   "execution_count": 40,
   "id": "a86845f3",
   "metadata": {},
   "outputs": [],
   "source": [
    "class Employee:\n",
    "    def __init__(self,name,age,salary,gender):\n",
    "        self.name=name\n",
    "        self.age=age\n",
    "        self.salary=salary\n",
    "        self.gender=gender\n",
    "    def emp_details(self):\n",
    "        print(\"The Employee name is\",self.name)\n",
    "        print(\"The Employee age is\",self.age)\n",
    "        print(\"The Employee salary is\",self.salary)\n",
    "        print(\"The Employee gender is\",self.gender)\n",
    "        "
   ]
  },
  {
   "cell_type": "code",
   "execution_count": 42,
   "id": "a1dfb742",
   "metadata": {},
   "outputs": [],
   "source": [
    "e1=Employee('sam',18,20000,'male')"
   ]
  },
  {
   "cell_type": "code",
   "execution_count": 45,
   "id": "e2e5b71a",
   "metadata": {},
   "outputs": [
    {
     "name": "stdout",
     "output_type": "stream",
     "text": [
      "The Employee name is sam\n",
      "The Employee age is 18\n",
      "The Employee salary is 20000\n",
      "The Employee gender is male\n"
     ]
    }
   ],
   "source": [
    "e1.emp_details()"
   ]
  },
  {
   "cell_type": "code",
   "execution_count": 46,
   "id": "4d0a4005",
   "metadata": {},
   "outputs": [],
   "source": [
    "#inheritance in python "
   ]
  },
  {
   "cell_type": "code",
   "execution_count": 48,
   "id": "94aeadbd",
   "metadata": {},
   "outputs": [],
   "source": [
    "class Vehicle:\n",
    "    def __init__(self,milleage,cost):\n",
    "        self.milleage=milleage\n",
    "        self.cost=cost\n",
    "    def show_vehicle_detail(self):\n",
    "        print(\"i am a vehicle\")\n",
    "        print(\"milleage of vehicle is\",self.milleage )\n",
    "        print(\"cost of vehicle is\",self.cost)\n",
    "        "
   ]
  },
  {
   "cell_type": "code",
   "execution_count": 51,
   "id": "518001b8",
   "metadata": {},
   "outputs": [],
   "source": [
    "v1=Vehicle(300,55000)"
   ]
  },
  {
   "cell_type": "code",
   "execution_count": 53,
   "id": "5a83931d",
   "metadata": {},
   "outputs": [
    {
     "name": "stdout",
     "output_type": "stream",
     "text": [
      "i am a vehicle\n",
      "milleage of vehicle is 300\n",
      "cost of vehicle is 55000\n"
     ]
    }
   ],
   "source": [
    "v1.show_vehicle_detail()"
   ]
  },
  {
   "cell_type": "code",
   "execution_count": 55,
   "id": "e8f4b8de",
   "metadata": {},
   "outputs": [],
   "source": [
    "class Car(Vehicle):\n",
    "    def show_car_detail(self):\n",
    "        print(\"i am a car\")"
   ]
  },
  {
   "cell_type": "code",
   "execution_count": 57,
   "id": "a344cf8a",
   "metadata": {},
   "outputs": [],
   "source": [
    "c1=Car(200,50000)\n"
   ]
  },
  {
   "cell_type": "code",
   "execution_count": 59,
   "id": "1a406768",
   "metadata": {},
   "outputs": [
    {
     "name": "stdout",
     "output_type": "stream",
     "text": [
      "i am a vehicle\n",
      "milleage of vehicle is 200\n",
      "cost of vehicle is 50000\n"
     ]
    }
   ],
   "source": [
    "c1.show_vehicle_detail()"
   ]
  },
  {
   "cell_type": "code",
   "execution_count": 61,
   "id": "2db8022e",
   "metadata": {},
   "outputs": [
    {
     "name": "stdout",
     "output_type": "stream",
     "text": [
      "i am a car\n"
     ]
    }
   ],
   "source": [
    "c1.show_car_detail()"
   ]
  },
  {
   "cell_type": "code",
   "execution_count": 62,
   "id": "70545431",
   "metadata": {},
   "outputs": [],
   "source": [
    "#override of init method "
   ]
  },
  {
   "cell_type": "code",
   "execution_count": 67,
   "id": "b176f8eb",
   "metadata": {},
   "outputs": [],
   "source": [
    "class car(Vehicle):\n",
    "    def __init__(self,milleage,cost,tyres,hp):\n",
    "        super().__init__(milleage,cost)\n",
    "        self.tyres=tyres\n",
    "        self.hp=hp\n",
    "    def show_car_details(self):\n",
    "        print(\"i am a car\") \n",
    "        print(\"tyres of car is\",self.tyres)\n",
    "        print(\"hp of car is\",self.hp)\n",
    "        "
   ]
  },
  {
   "cell_type": "code",
   "execution_count": 69,
   "id": "937175dc",
   "metadata": {},
   "outputs": [],
   "source": [
    "c2=car(250,25000,4,300)"
   ]
  },
  {
   "cell_type": "code",
   "execution_count": 71,
   "id": "41ca326d",
   "metadata": {},
   "outputs": [
    {
     "name": "stdout",
     "output_type": "stream",
     "text": [
      "i am a car\n",
      "tyres of car is 4\n",
      "hp of car is 300\n"
     ]
    }
   ],
   "source": [
    "c2.show_car_details()"
   ]
  },
  {
   "cell_type": "code",
   "execution_count": 73,
   "id": "bd5cfd32",
   "metadata": {},
   "outputs": [
    {
     "name": "stdout",
     "output_type": "stream",
     "text": [
      "i am a vehicle\n",
      "milleage of vehicle is 250\n",
      "cost of vehicle is 25000\n"
     ]
    }
   ],
   "source": [
    "c2.show_vehicle_detail() "
   ]
  },
  {
   "cell_type": "code",
   "execution_count": 74,
   "id": "422a18c4",
   "metadata": {},
   "outputs": [],
   "source": [
    "#multiple inheritance \n"
   ]
  },
  {
   "cell_type": "code",
   "execution_count": 76,
   "id": "62a3a23e",
   "metadata": {},
   "outputs": [],
   "source": [
    "class Parent1:\n",
    "    def assign_string_one(self,str1):\n",
    "        self.str1=str1\n",
    "    def show_string_one(self):\n",
    "        return self.str1"
   ]
  },
  {
   "cell_type": "code",
   "execution_count": 78,
   "id": "b1118c04",
   "metadata": {},
   "outputs": [],
   "source": [
    "class Parent2:\n",
    "    def assign_string_two(self,str2):\n",
    "        self.str2=str2\n",
    "    def show_string_two(self):\n",
    "        return self.str2"
   ]
  },
  {
   "cell_type": "code",
   "execution_count": 80,
   "id": "3d4c5156",
   "metadata": {},
   "outputs": [],
   "source": [
    "class child(Parent1,Parent2):\n",
    "    def assign_string_three(self,str3):\n",
    "        self.str3=str3\n",
    "    def show_string_three(self):\n",
    "        return self.str3"
   ]
  },
  {
   "cell_type": "code",
   "execution_count": 82,
   "id": "dd7bc447",
   "metadata": {},
   "outputs": [],
   "source": [
    "ch=child()"
   ]
  },
  {
   "cell_type": "code",
   "execution_count": 84,
   "id": "faa2d992",
   "metadata": {},
   "outputs": [],
   "source": [
    "ch.assign_string_one('one')"
   ]
  },
  {
   "cell_type": "code",
   "execution_count": 86,
   "id": "dcfb81e0",
   "metadata": {},
   "outputs": [
    {
     "data": {
      "text/plain": [
       "'one'"
      ]
     },
     "execution_count": 86,
     "metadata": {},
     "output_type": "execute_result"
    }
   ],
   "source": [
    "ch.show_string_one()"
   ]
  },
  {
   "cell_type": "code",
   "execution_count": 88,
   "id": "a1e857ef",
   "metadata": {},
   "outputs": [],
   "source": [
    "ch.assign_string_two('two')"
   ]
  },
  {
   "cell_type": "code",
   "execution_count": 90,
   "id": "3f7e74f5",
   "metadata": {},
   "outputs": [],
   "source": [
    "ch.assign_string_three('three')\n"
   ]
  },
  {
   "cell_type": "code",
   "execution_count": 92,
   "id": "d6d1ec97",
   "metadata": {},
   "outputs": [
    {
     "data": {
      "text/plain": [
       "'two'"
      ]
     },
     "execution_count": 92,
     "metadata": {},
     "output_type": "execute_result"
    }
   ],
   "source": [
    "ch.show_string_two()"
   ]
  },
  {
   "cell_type": "code",
   "execution_count": 94,
   "id": "13906c26",
   "metadata": {},
   "outputs": [
    {
     "data": {
      "text/plain": [
       "'three'"
      ]
     },
     "execution_count": 94,
     "metadata": {},
     "output_type": "execute_result"
    }
   ],
   "source": [
    "ch.show_string_three()"
   ]
  },
  {
   "cell_type": "code",
   "execution_count": 95,
   "id": "8b86b259",
   "metadata": {},
   "outputs": [],
   "source": [
    "#multilevel inheritance "
   ]
  },
  {
   "cell_type": "code",
   "execution_count": 97,
   "id": "0a32fad8",
   "metadata": {},
   "outputs": [],
   "source": [
    "class parent:\n",
    "    def assign_name(self,name):\n",
    "        self.name=name\n",
    "    def show_name(self):\n",
    "        return self.name"
   ]
  },
  {
   "cell_type": "code",
   "execution_count": 99,
   "id": "d0e4fef5",
   "metadata": {},
   "outputs": [],
   "source": [
    "class childs(parent):\n",
    "    def assign_age(self,age):\n",
    "        self.age=age\n",
    "    def show_age(self):\n",
    "            return self.age"
   ]
  },
  {
   "cell_type": "code",
   "execution_count": 101,
   "id": "84d91dd7",
   "metadata": {},
   "outputs": [],
   "source": [
    "class Grandchild(childs):\n",
    "    def assign_gender(self,gender):\n",
    "        self.gender=gender\n",
    "    def show_gender(self):\n",
    "        return self.gender"
   ]
  },
  {
   "cell_type": "code",
   "execution_count": 104,
   "id": "3acb7ece",
   "metadata": {},
   "outputs": [],
   "source": [
    "gc=Grandchild()"
   ]
  },
  {
   "cell_type": "code",
   "execution_count": 106,
   "id": "3aa7c4aa",
   "metadata": {},
   "outputs": [],
   "source": [
    "gc.assign_name('sam')"
   ]
  },
  {
   "cell_type": "code",
   "execution_count": 108,
   "id": "61cfcda4",
   "metadata": {},
   "outputs": [],
   "source": [
    "gc.assign_age(18)"
   ]
  },
  {
   "cell_type": "code",
   "execution_count": 110,
   "id": "e3387991",
   "metadata": {},
   "outputs": [],
   "source": [
    "gc.assign_gender('male')"
   ]
  },
  {
   "cell_type": "code",
   "execution_count": 112,
   "id": "02e6a41d",
   "metadata": {},
   "outputs": [
    {
     "data": {
      "text/plain": [
       "'sam'"
      ]
     },
     "execution_count": 112,
     "metadata": {},
     "output_type": "execute_result"
    }
   ],
   "source": [
    "gc.show_name()"
   ]
  },
  {
   "cell_type": "code",
   "execution_count": 114,
   "id": "ae595d42",
   "metadata": {},
   "outputs": [
    {
     "data": {
      "text/plain": [
       "18"
      ]
     },
     "execution_count": 114,
     "metadata": {},
     "output_type": "execute_result"
    }
   ],
   "source": [
    "gc.show_age()"
   ]
  },
  {
   "cell_type": "code",
   "execution_count": 1,
   "id": "51577878",
   "metadata": {},
   "outputs": [
    {
     "ename": "NameError",
     "evalue": "name 'gc' is not defined",
     "output_type": "error",
     "traceback": [
      "\u001b[1;31m---------------------------------------------------------------------------\u001b[0m",
      "\u001b[1;31mNameError\u001b[0m                                 Traceback (most recent call last)",
      "\u001b[1;32m<ipython-input-1-fce9cdc7cd44>\u001b[0m in \u001b[0;36m<module>\u001b[1;34m\u001b[0m\n\u001b[1;32m----> 1\u001b[1;33m \u001b[0mgc\u001b[0m\u001b[1;33m.\u001b[0m\u001b[0mshow_gender\u001b[0m\u001b[1;33m(\u001b[0m\u001b[1;33m)\u001b[0m\u001b[1;33m\u001b[0m\u001b[1;33m\u001b[0m\u001b[0m\n\u001b[0m",
      "\u001b[1;31mNameError\u001b[0m: name 'gc' is not defined"
     ]
    }
   ],
   "source": [
    "gc.show_gender() "
   ]
  },
  {
   "cell_type": "code",
   "execution_count": 2,
   "id": "3ead8268",
   "metadata": {},
   "outputs": [],
   "source": [
    "#abstract class "
   ]
  },
  {
   "cell_type": "code",
   "execution_count": 5,
   "id": "b48f498e",
   "metadata": {},
   "outputs": [],
   "source": [
    "from abc import ABC,abstractmethod\n",
    "class car(ABC):\n",
    "    def milleage(self):\n",
    "        pass  \n"
   ]
  },
  {
   "cell_type": "code",
   "execution_count": 7,
   "id": "800976fd",
   "metadata": {},
   "outputs": [],
   "source": [
    "class tesla(car):\n",
    "    def milleage(self):\n",
    "        print(\"the milleage is 30kmph\")\n",
    "        "
   ]
  },
  {
   "cell_type": "code",
   "execution_count": 8,
   "id": "119c953e",
   "metadata": {},
   "outputs": [],
   "source": [
    "class sujuki(car):\n",
    "    def milleage(self):\n",
    "        print(\"the milleage is 40kmph\")"
   ]
  },
  {
   "cell_type": "code",
   "execution_count": 10,
   "id": "3427c323",
   "metadata": {},
   "outputs": [
    {
     "name": "stdout",
     "output_type": "stream",
     "text": [
      "the milleage is 30kmph\n"
     ]
    }
   ],
   "source": [
    "t=tesla()\n",
    "t.milleage() "
   ]
  },
  {
   "cell_type": "code",
   "execution_count": 13,
   "id": "e73b6407",
   "metadata": {},
   "outputs": [
    {
     "name": "stdout",
     "output_type": "stream",
     "text": [
      "the milleage is 40kmph\n"
     ]
    }
   ],
   "source": [
    "s=sujuki()\n",
    "s.milleage() "
   ]
  },
  {
   "cell_type": "code",
   "execution_count": 15,
   "id": "42b2bad9",
   "metadata": {},
   "outputs": [],
   "source": [
    "class polygon(ABC):\n",
    "    def sides(self):\n",
    "        pass "
   ]
  },
  {
   "cell_type": "code",
   "execution_count": 17,
   "id": "b96969e9",
   "metadata": {},
   "outputs": [],
   "source": [
    "class triange(polygon):\n",
    "    def sides(self):\n",
    "        print(\"triangle has 3 sides\")"
   ]
  },
  {
   "cell_type": "code",
   "execution_count": 19,
   "id": "f35d2e69",
   "metadata": {},
   "outputs": [],
   "source": [
    "class pentagon(polygon):\n",
    "    def sides(self):\n",
    "        print(\"pentagon has 5 sides\")"
   ]
  },
  {
   "cell_type": "code",
   "execution_count": 22,
   "id": "cb15d90c",
   "metadata": {},
   "outputs": [
    {
     "name": "stdout",
     "output_type": "stream",
     "text": [
      "triangle has 3 sides\n"
     ]
    }
   ],
   "source": [
    "t=triange()\n",
    "t.sides() "
   ]
  },
  {
   "cell_type": "code",
   "execution_count": 23,
   "id": "8f101e93",
   "metadata": {},
   "outputs": [
    {
     "name": "stdout",
     "output_type": "stream",
     "text": [
      "pentagon has 5 sides\n"
     ]
    }
   ],
   "source": [
    "p=pentagon()\n",
    "p.sides()"
   ]
  }
 ],
 "metadata": {
  "kernelspec": {
   "display_name": "Python 3",
   "language": "python",
   "name": "python3"
  },
  "language_info": {
   "codemirror_mode": {
    "name": "ipython",
    "version": 3
   },
   "file_extension": ".py",
   "mimetype": "text/x-python",
   "name": "python",
   "nbconvert_exporter": "python",
   "pygments_lexer": "ipython3",
   "version": "3.8.8"
  }
 },
 "nbformat": 4,
 "nbformat_minor": 5
}
