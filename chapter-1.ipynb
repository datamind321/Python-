{
 "cells": [
  {
   "cell_type": "code",
   "execution_count": 2,
   "id": "bd280281",
   "metadata": {},
   "outputs": [
    {
     "name": "stdout",
     "output_type": "stream",
     "text": [
      "hello python\n"
     ]
    }
   ],
   "source": [
    "print(\"hello python\")"
   ]
  },
  {
   "cell_type": "code",
   "execution_count": 4,
   "id": "56c643e2",
   "metadata": {},
   "outputs": [
    {
     "data": {
      "text/plain": [
       "10"
      ]
     },
     "execution_count": 4,
     "metadata": {},
     "output_type": "execute_result"
    }
   ],
   "source": [
    "a=10\n",
    "a"
   ]
  },
  {
   "cell_type": "code",
   "execution_count": 6,
   "id": "e968ce0a",
   "metadata": {},
   "outputs": [
    {
     "data": {
      "text/plain": [
       "int"
      ]
     },
     "execution_count": 6,
     "metadata": {},
     "output_type": "execute_result"
    }
   ],
   "source": [
    "type(a) "
   ]
  },
  {
   "cell_type": "code",
   "execution_count": 8,
   "id": "f860ddee",
   "metadata": {},
   "outputs": [
    {
     "data": {
      "text/plain": [
       "str"
      ]
     },
     "execution_count": 8,
     "metadata": {},
     "output_type": "execute_result"
    }
   ],
   "source": [
    "a=\"sparta\"\n",
    "type(a)"
   ]
  },
  {
   "cell_type": "code",
   "execution_count": 10,
   "id": "dd07d627",
   "metadata": {},
   "outputs": [
    {
     "data": {
      "text/plain": [
       "float"
      ]
     },
     "execution_count": 10,
     "metadata": {},
     "output_type": "execute_result"
    }
   ],
   "source": [
    "a=3.14\n",
    "type(a)"
   ]
  },
  {
   "cell_type": "code",
   "execution_count": 12,
   "id": "1b558910",
   "metadata": {},
   "outputs": [
    {
     "data": {
      "text/plain": [
       "complex"
      ]
     },
     "execution_count": 12,
     "metadata": {},
     "output_type": "execute_result"
    }
   ],
   "source": [
    "a=3+4j\n",
    "type(a)"
   ]
  },
  {
   "cell_type": "code",
   "execution_count": 14,
   "id": "227ff705",
   "metadata": {},
   "outputs": [
    {
     "data": {
      "text/plain": [
       "'raj'"
      ]
     },
     "execution_count": 14,
     "metadata": {},
     "output_type": "execute_result"
    }
   ],
   "source": [
    "a=\"raj\" \n",
    "a"
   ]
  },
  {
   "cell_type": "code",
   "execution_count": 18,
   "id": "fbb75e53",
   "metadata": {},
   "outputs": [
    {
     "data": {
      "text/plain": [
       "'sparta'"
      ]
     },
     "execution_count": 18,
     "metadata": {},
     "output_type": "execute_result"
    }
   ],
   "source": [
    "A='sparta'\n",
    "A    #case sesitive identifiers(a with A)"
   ]
  },
  {
   "cell_type": "code",
   "execution_count": 19,
   "id": "a83b486e",
   "metadata": {},
   "outputs": [],
   "source": [
    "#operators in python \n",
    "#Arithmetic operators \n"
   ]
  },
  {
   "cell_type": "code",
   "execution_count": 21,
   "id": "0f170a7d",
   "metadata": {},
   "outputs": [
    {
     "data": {
      "text/plain": [
       "(10, 20)"
      ]
     },
     "execution_count": 21,
     "metadata": {},
     "output_type": "execute_result"
    }
   ],
   "source": [
    "a=10\n",
    "b=20\n",
    "a,b"
   ]
  },
  {
   "cell_type": "code",
   "execution_count": 23,
   "id": "b0cd351b",
   "metadata": {},
   "outputs": [
    {
     "data": {
      "text/plain": [
       "30"
      ]
     },
     "execution_count": 23,
     "metadata": {},
     "output_type": "execute_result"
    }
   ],
   "source": [
    "a+b"
   ]
  },
  {
   "cell_type": "code",
   "execution_count": 25,
   "id": "cd9062e6",
   "metadata": {},
   "outputs": [
    {
     "data": {
      "text/plain": [
       "-10"
      ]
     },
     "execution_count": 25,
     "metadata": {},
     "output_type": "execute_result"
    }
   ],
   "source": [
    "a-b"
   ]
  },
  {
   "cell_type": "code",
   "execution_count": 26,
   "id": "0bc63747",
   "metadata": {},
   "outputs": [
    {
     "data": {
      "text/plain": [
       "200"
      ]
     },
     "execution_count": 26,
     "metadata": {},
     "output_type": "execute_result"
    }
   ],
   "source": [
    "a*b"
   ]
  },
  {
   "cell_type": "code",
   "execution_count": 27,
   "id": "5a8d8e5b",
   "metadata": {},
   "outputs": [
    {
     "data": {
      "text/plain": [
       "0.5"
      ]
     },
     "execution_count": 27,
     "metadata": {},
     "output_type": "execute_result"
    }
   ],
   "source": [
    "a/b"
   ]
  },
  {
   "cell_type": "code",
   "execution_count": 30,
   "id": "9503e061",
   "metadata": {},
   "outputs": [
    {
     "data": {
      "text/plain": [
       "15.0"
      ]
     },
     "execution_count": 30,
     "metadata": {},
     "output_type": "execute_result"
    }
   ],
   "source": [
    "(a+b)/2"
   ]
  },
  {
   "cell_type": "code",
   "execution_count": 31,
   "id": "c9717480",
   "metadata": {},
   "outputs": [],
   "source": [
    "#comparison opertor "
   ]
  },
  {
   "cell_type": "code",
   "execution_count": 32,
   "id": "f31bdac8",
   "metadata": {},
   "outputs": [],
   "source": [
    "a=5\n",
    "b=7"
   ]
  },
  {
   "cell_type": "code",
   "execution_count": 34,
   "id": "17ec8c40",
   "metadata": {},
   "outputs": [
    {
     "data": {
      "text/plain": [
       "False"
      ]
     },
     "execution_count": 34,
     "metadata": {},
     "output_type": "execute_result"
    }
   ],
   "source": [
    "a>b"
   ]
  },
  {
   "cell_type": "code",
   "execution_count": 37,
   "id": "e71770d2",
   "metadata": {},
   "outputs": [
    {
     "data": {
      "text/plain": [
       "True"
      ]
     },
     "execution_count": 37,
     "metadata": {},
     "output_type": "execute_result"
    }
   ],
   "source": [
    "a<b"
   ]
  },
  {
   "cell_type": "code",
   "execution_count": 39,
   "id": "7cbde8e6",
   "metadata": {},
   "outputs": [
    {
     "data": {
      "text/plain": [
       "False"
      ]
     },
     "execution_count": 39,
     "metadata": {},
     "output_type": "execute_result"
    }
   ],
   "source": [
    "a==b"
   ]
  },
  {
   "cell_type": "code",
   "execution_count": 41,
   "id": "a97dc869",
   "metadata": {},
   "outputs": [
    {
     "data": {
      "text/plain": [
       "True"
      ]
     },
     "execution_count": 41,
     "metadata": {},
     "output_type": "execute_result"
    }
   ],
   "source": [
    "a!=b"
   ]
  },
  {
   "cell_type": "code",
   "execution_count": 44,
   "id": "a7df9e1e",
   "metadata": {},
   "outputs": [
    {
     "data": {
      "text/plain": [
       "False"
      ]
     },
     "execution_count": 44,
     "metadata": {},
     "output_type": "execute_result"
    }
   ],
   "source": [
    "a>=b \n"
   ]
  },
  {
   "cell_type": "code",
   "execution_count": 47,
   "id": "83a769d5",
   "metadata": {},
   "outputs": [
    {
     "data": {
      "text/plain": [
       "True"
      ]
     },
     "execution_count": 47,
     "metadata": {},
     "output_type": "execute_result"
    }
   ],
   "source": [
    "a<=b "
   ]
  },
  {
   "cell_type": "code",
   "execution_count": 48,
   "id": "a891a19e",
   "metadata": {},
   "outputs": [],
   "source": [
    "#logical operators \n"
   ]
  },
  {
   "cell_type": "code",
   "execution_count": 49,
   "id": "745e1b42",
   "metadata": {},
   "outputs": [],
   "source": [
    "a=True \n",
    "b=False "
   ]
  },
  {
   "cell_type": "code",
   "execution_count": 51,
   "id": "a96f883d",
   "metadata": {},
   "outputs": [
    {
     "data": {
      "text/plain": [
       "False"
      ]
     },
     "execution_count": 51,
     "metadata": {},
     "output_type": "execute_result"
    }
   ],
   "source": [
    "a&b"
   ]
  },
  {
   "cell_type": "code",
   "execution_count": 53,
   "id": "ef314519",
   "metadata": {},
   "outputs": [
    {
     "data": {
      "text/plain": [
       "True"
      ]
     },
     "execution_count": 53,
     "metadata": {},
     "output_type": "execute_result"
    }
   ],
   "source": [
    "a&a"
   ]
  },
  {
   "cell_type": "code",
   "execution_count": 55,
   "id": "99cbea99",
   "metadata": {},
   "outputs": [
    {
     "data": {
      "text/plain": [
       "False"
      ]
     },
     "execution_count": 55,
     "metadata": {},
     "output_type": "execute_result"
    }
   ],
   "source": [
    "b&b"
   ]
  },
  {
   "cell_type": "code",
   "execution_count": 57,
   "id": "887b0f06",
   "metadata": {},
   "outputs": [
    {
     "data": {
      "text/plain": [
       "False"
      ]
     },
     "execution_count": 57,
     "metadata": {},
     "output_type": "execute_result"
    }
   ],
   "source": [
    "b&a"
   ]
  },
  {
   "cell_type": "code",
   "execution_count": 59,
   "id": "5582ae27",
   "metadata": {},
   "outputs": [
    {
     "data": {
      "text/plain": [
       "True"
      ]
     },
     "execution_count": 59,
     "metadata": {},
     "output_type": "execute_result"
    }
   ],
   "source": [
    "a|b"
   ]
  },
  {
   "cell_type": "code",
   "execution_count": 61,
   "id": "7498c4b3",
   "metadata": {},
   "outputs": [
    {
     "data": {
      "text/plain": [
       "False"
      ]
     },
     "execution_count": 61,
     "metadata": {},
     "output_type": "execute_result"
    }
   ],
   "source": [
    "b|b \n"
   ]
  },
  {
   "cell_type": "code",
   "execution_count": 64,
   "id": "b687bff7",
   "metadata": {},
   "outputs": [
    {
     "data": {
      "text/plain": [
       "4"
      ]
     },
     "execution_count": 64,
     "metadata": {},
     "output_type": "execute_result"
    }
   ],
   "source": [
    "#assignment operators \n",
    "a=2\n",
    "a+=2 \n",
    "a "
   ]
  },
  {
   "cell_type": "code",
   "execution_count": 66,
   "id": "4d0ae511",
   "metadata": {},
   "outputs": [
    {
     "data": {
      "text/plain": [
       "0"
      ]
     },
     "execution_count": 66,
     "metadata": {},
     "output_type": "execute_result"
    }
   ],
   "source": [
    "a-=2\n",
    "a "
   ]
  },
  {
   "cell_type": "raw",
   "id": "bf2753c8",
   "metadata": {},
   "source": []
  },
  {
   "cell_type": "code",
   "execution_count": 68,
   "id": "9aca41c2",
   "metadata": {},
   "outputs": [
    {
     "data": {
      "text/plain": [
       "'welcome back home'"
      ]
     },
     "execution_count": 68,
     "metadata": {},
     "output_type": "execute_result"
    }
   ],
   "source": [
    "s=\"welcome back home\"\n",
    "s \n"
   ]
  },
  {
   "cell_type": "code",
   "execution_count": 70,
   "id": "646ec633",
   "metadata": {},
   "outputs": [
    {
     "data": {
      "text/plain": [
       "17"
      ]
     },
     "execution_count": 70,
     "metadata": {},
     "output_type": "execute_result"
    }
   ],
   "source": [
    "len(s) \n"
   ]
  },
  {
   "cell_type": "code",
   "execution_count": 72,
   "id": "f2035429",
   "metadata": {},
   "outputs": [
    {
     "data": {
      "text/plain": [
       "'w'"
      ]
     },
     "execution_count": 72,
     "metadata": {},
     "output_type": "execute_result"
    }
   ],
   "source": [
    "s[0]"
   ]
  },
  {
   "cell_type": "code",
   "execution_count": 74,
   "id": "0010700d",
   "metadata": {},
   "outputs": [
    {
     "data": {
      "text/plain": [
       "'e'"
      ]
     },
     "execution_count": 74,
     "metadata": {},
     "output_type": "execute_result"
    }
   ],
   "source": [
    "s[-1]"
   ]
  },
  {
   "cell_type": "code",
   "execution_count": 77,
   "id": "0403eb4a",
   "metadata": {},
   "outputs": [
    {
     "data": {
      "text/plain": [
       "'elcome'"
      ]
     },
     "execution_count": 77,
     "metadata": {},
     "output_type": "execute_result"
    }
   ],
   "source": [
    "s[1:7] "
   ]
  },
  {
   "cell_type": "code",
   "execution_count": 83,
   "id": "cffc2578",
   "metadata": {},
   "outputs": [
    {
     "data": {
      "text/plain": [
       "'eo c'"
      ]
     },
     "execution_count": 83,
     "metadata": {},
     "output_type": "execute_result"
    }
   ],
   "source": [
    "s[1:12:3] \n"
   ]
  },
  {
   "cell_type": "code",
   "execution_count": 85,
   "id": "8e760553",
   "metadata": {},
   "outputs": [
    {
     "data": {
      "text/plain": [
       "'welcome back home'"
      ]
     },
     "execution_count": 85,
     "metadata": {},
     "output_type": "execute_result"
    }
   ],
   "source": [
    "s.lower()"
   ]
  },
  {
   "cell_type": "code",
   "execution_count": 87,
   "id": "2469b119",
   "metadata": {},
   "outputs": [
    {
     "data": {
      "text/plain": [
       "'WELCOME BACK HOME'"
      ]
     },
     "execution_count": 87,
     "metadata": {},
     "output_type": "execute_result"
    }
   ],
   "source": [
    "s.upper() "
   ]
  },
  {
   "cell_type": "code",
   "execution_count": 90,
   "id": "89197380",
   "metadata": {},
   "outputs": [
    {
     "data": {
      "text/plain": [
       "['w', 'lcom', ' back hom', '']"
      ]
     },
     "execution_count": 90,
     "metadata": {},
     "output_type": "execute_result"
    }
   ],
   "source": [
    "s.split('e')"
   ]
  },
  {
   "cell_type": "code",
   "execution_count": 94,
   "id": "d843dbca",
   "metadata": {},
   "outputs": [
    {
     "data": {
      "text/plain": [
       "'melcome back home'"
      ]
     },
     "execution_count": 94,
     "metadata": {},
     "output_type": "execute_result"
    }
   ],
   "source": [
    "s.replace('w','m')"
   ]
  },
  {
   "cell_type": "code",
   "execution_count": 97,
   "id": "6ea4adf0",
   "metadata": {},
   "outputs": [
    {
     "data": {
      "text/plain": [
       "3"
      ]
     },
     "execution_count": 97,
     "metadata": {},
     "output_type": "execute_result"
    }
   ],
   "source": [
    "s.count('e')"
   ]
  },
  {
   "cell_type": "code",
   "execution_count": 102,
   "id": "eecb1635",
   "metadata": {},
   "outputs": [
    {
     "data": {
      "text/plain": [
       "1"
      ]
     },
     "execution_count": 102,
     "metadata": {},
     "output_type": "execute_result"
    }
   ],
   "source": [
    "s.find('e') \n"
   ]
  },
  {
   "cell_type": "code",
   "execution_count": 105,
   "id": "4e1470b6",
   "metadata": {},
   "outputs": [],
   "source": [
    "#data structure in python   "
   ]
  },
  {
   "cell_type": "code",
   "execution_count": 106,
   "id": "e68a5648",
   "metadata": {},
   "outputs": [],
   "source": [
    "#tuples imutable "
   ]
  },
  {
   "cell_type": "code",
   "execution_count": 109,
   "id": "d9afb144",
   "metadata": {},
   "outputs": [
    {
     "data": {
      "text/plain": [
       "(1, 2, 3, 3.14, 'apple', (3+4j), True)"
      ]
     },
     "execution_count": 109,
     "metadata": {},
     "output_type": "execute_result"
    }
   ],
   "source": [
    "tup=(1,2,3,3.14,'apple',3+4j,True)\n",
    "tup"
   ]
  },
  {
   "cell_type": "code",
   "execution_count": 111,
   "id": "455ba608",
   "metadata": {},
   "outputs": [
    {
     "data": {
      "text/plain": [
       "tuple"
      ]
     },
     "execution_count": 111,
     "metadata": {},
     "output_type": "execute_result"
    }
   ],
   "source": [
    "type(tup) \n",
    "\n"
   ]
  },
  {
   "cell_type": "code",
   "execution_count": 113,
   "id": "1403d85e",
   "metadata": {},
   "outputs": [
    {
     "data": {
      "text/plain": [
       "1"
      ]
     },
     "execution_count": 113,
     "metadata": {},
     "output_type": "execute_result"
    }
   ],
   "source": [
    "tup[0]"
   ]
  },
  {
   "cell_type": "code",
   "execution_count": 115,
   "id": "9c5937c7",
   "metadata": {},
   "outputs": [
    {
     "data": {
      "text/plain": [
       "7"
      ]
     },
     "execution_count": 115,
     "metadata": {},
     "output_type": "execute_result"
    }
   ],
   "source": [
    "len(tup)"
   ]
  },
  {
   "cell_type": "code",
   "execution_count": 117,
   "id": "36ac72f0",
   "metadata": {},
   "outputs": [
    {
     "data": {
      "text/plain": [
       "True"
      ]
     },
     "execution_count": 117,
     "metadata": {},
     "output_type": "execute_result"
    }
   ],
   "source": [
    "tup[-1]"
   ]
  },
  {
   "cell_type": "code",
   "execution_count": 124,
   "id": "8d214ca7",
   "metadata": {},
   "outputs": [
    {
     "data": {
      "text/plain": [
       "(2, 3.14)"
      ]
     },
     "execution_count": 124,
     "metadata": {},
     "output_type": "execute_result"
    }
   ],
   "source": [
    "tup[1:4:2]"
   ]
  },
  {
   "cell_type": "code",
   "execution_count": 126,
   "id": "7cdc7167",
   "metadata": {},
   "outputs": [
    {
     "ename": "TypeError",
     "evalue": "'tuple' object does not support item assignment",
     "output_type": "error",
     "traceback": [
      "\u001b[1;31m---------------------------------------------------------------------------\u001b[0m",
      "\u001b[1;31mTypeError\u001b[0m                                 Traceback (most recent call last)",
      "\u001b[1;32m<ipython-input-126-cfdfb8256cb6>\u001b[0m in \u001b[0;36m<module>\u001b[1;34m\u001b[0m\n\u001b[1;32m----> 1\u001b[1;33m \u001b[0mtup\u001b[0m\u001b[1;33m[\u001b[0m\u001b[1;36m2\u001b[0m\u001b[1;33m]\u001b[0m\u001b[1;33m=\u001b[0m\u001b[1;36m5\u001b[0m \u001b[1;31m#touple are always unchageable and unmodified\u001b[0m\u001b[1;33m\u001b[0m\u001b[1;33m\u001b[0m\u001b[0m\n\u001b[0m",
      "\u001b[1;31mTypeError\u001b[0m: 'tuple' object does not support item assignment"
     ]
    }
   ],
   "source": [
    "tup[2]=5 #touple are always unchageable and unmodified"
   ]
  },
  {
   "cell_type": "code",
   "execution_count": 128,
   "id": "e27ff0a8",
   "metadata": {},
   "outputs": [
    {
     "data": {
      "text/plain": [
       "(1, 2, 3, 4, 5, 6)"
      ]
     },
     "execution_count": 128,
     "metadata": {},
     "output_type": "execute_result"
    }
   ],
   "source": [
    "tup1=(1,2,3) \n",
    "tup2=(4,5,6) \n",
    "tup1+tup2 #concatenation "
   ]
  },
  {
   "cell_type": "code",
   "execution_count": 131,
   "id": "f89720b9",
   "metadata": {},
   "outputs": [
    {
     "data": {
      "text/plain": [
       "(4, 5, 6, 4, 5, 6, 4, 5, 6)"
      ]
     },
     "execution_count": 131,
     "metadata": {},
     "output_type": "execute_result"
    }
   ],
   "source": [
    "tup2*3 #repeating an elements"
   ]
  },
  {
   "cell_type": "code",
   "execution_count": 133,
   "id": "0e5cf699",
   "metadata": {},
   "outputs": [
    {
     "data": {
      "text/plain": [
       "(1, 2, 3, 1, 2, 3, 4, 5, 6)"
      ]
     },
     "execution_count": 133,
     "metadata": {},
     "output_type": "execute_result"
    }
   ],
   "source": [
    "tup1*2+tup2"
   ]
  },
  {
   "cell_type": "code",
   "execution_count": 135,
   "id": "e3f6eb02",
   "metadata": {},
   "outputs": [
    {
     "data": {
      "text/plain": [
       "1"
      ]
     },
     "execution_count": 135,
     "metadata": {},
     "output_type": "execute_result"
    }
   ],
   "source": [
    "min(tup1)"
   ]
  },
  {
   "cell_type": "code",
   "execution_count": 141,
   "id": "8dbc659e",
   "metadata": {},
   "outputs": [
    {
     "data": {
      "text/plain": [
       "6"
      ]
     },
     "execution_count": 141,
     "metadata": {},
     "output_type": "execute_result"
    }
   ],
   "source": [
    "max(tup2)"
   ]
  },
  {
   "cell_type": "code",
   "execution_count": 142,
   "id": "f4ec176f",
   "metadata": {},
   "outputs": [],
   "source": [
    "#list(mutable) "
   ]
  },
  {
   "cell_type": "code",
   "execution_count": 144,
   "id": "2322ce19",
   "metadata": {},
   "outputs": [
    {
     "data": {
      "text/plain": [
       "[1, 2, 3, 'sparta', 2.5, True, (3+4j)]"
      ]
     },
     "execution_count": 144,
     "metadata": {},
     "output_type": "execute_result"
    }
   ],
   "source": [
    "l=[1,2,3,'sparta',2.5,True,3+4j]\n",
    "l"
   ]
  },
  {
   "cell_type": "code",
   "execution_count": 146,
   "id": "77f6d6a8",
   "metadata": {},
   "outputs": [
    {
     "data": {
      "text/plain": [
       "list"
      ]
     },
     "execution_count": 146,
     "metadata": {},
     "output_type": "execute_result"
    }
   ],
   "source": [
    "type(l)"
   ]
  },
  {
   "cell_type": "code",
   "execution_count": 148,
   "id": "0e25ff69",
   "metadata": {},
   "outputs": [
    {
     "data": {
      "text/plain": [
       "1"
      ]
     },
     "execution_count": 148,
     "metadata": {},
     "output_type": "execute_result"
    }
   ],
   "source": [
    "l[0]"
   ]
  },
  {
   "cell_type": "code",
   "execution_count": 149,
   "id": "459999d3",
   "metadata": {},
   "outputs": [
    {
     "data": {
      "text/plain": [
       "(3+4j)"
      ]
     },
     "execution_count": 149,
     "metadata": {},
     "output_type": "execute_result"
    }
   ],
   "source": [
    "l[-1]"
   ]
  },
  {
   "cell_type": "code",
   "execution_count": 153,
   "id": "b0a02a64",
   "metadata": {},
   "outputs": [
    {
     "data": {
      "text/plain": [
       "[1, 2, 3, 'sparta', False, True, (3+4j)]"
      ]
     },
     "execution_count": 153,
     "metadata": {},
     "output_type": "execute_result"
    }
   ],
   "source": [
    "l[4]=False \n",
    "l "
   ]
  },
  {
   "cell_type": "code",
   "execution_count": 155,
   "id": "c3b0c3b3",
   "metadata": {},
   "outputs": [
    {
     "data": {
      "text/plain": [
       "[1, 2, 3, 'sparta', False, True, (3+4j), 'python', 'python']"
      ]
     },
     "execution_count": 155,
     "metadata": {},
     "output_type": "execute_result"
    }
   ],
   "source": [
    "l.append('python') \n",
    "l"
   ]
  },
  {
   "cell_type": "code",
   "execution_count": 159,
   "id": "becfa7b3",
   "metadata": {},
   "outputs": [
    {
     "data": {
      "text/plain": [
       "'python'"
      ]
     },
     "execution_count": 159,
     "metadata": {},
     "output_type": "execute_result"
    }
   ],
   "source": [
    "l.pop() "
   ]
  },
  {
   "cell_type": "code",
   "execution_count": 161,
   "id": "0c7ba5b1",
   "metadata": {},
   "outputs": [
    {
     "data": {
      "text/plain": [
       "[1, 2, 3, 'sparta', False, True, (3+4j)]"
      ]
     },
     "execution_count": 161,
     "metadata": {},
     "output_type": "execute_result"
    }
   ],
   "source": [
    "l "
   ]
  },
  {
   "cell_type": "code",
   "execution_count": 165,
   "id": "19bb372d",
   "metadata": {},
   "outputs": [
    {
     "data": {
      "text/plain": [
       "[(3+4j), True, False, 'sparta', 3, 2, 1]"
      ]
     },
     "execution_count": 165,
     "metadata": {},
     "output_type": "execute_result"
    }
   ],
   "source": [
    "l.reverse() \n",
    "l"
   ]
  },
  {
   "cell_type": "code",
   "execution_count": 166,
   "id": "bb0b92fd",
   "metadata": {},
   "outputs": [
    {
     "data": {
      "text/plain": [
       "[(3+4j), True, False, 'sparta', 3, 2, 1]"
      ]
     },
     "execution_count": 166,
     "metadata": {},
     "output_type": "execute_result"
    }
   ],
   "source": [
    "l "
   ]
  },
  {
   "cell_type": "code",
   "execution_count": 170,
   "id": "ee39dcad",
   "metadata": {},
   "outputs": [
    {
     "data": {
      "text/plain": [
       "[(3+4j), 'com', 'com', 'com', True, False, 'sparta', 3, 2, 1]"
      ]
     },
     "execution_count": 170,
     "metadata": {},
     "output_type": "execute_result"
    }
   ],
   "source": [
    "l.insert(1,'com') \n",
    "l"
   ]
  },
  {
   "cell_type": "code",
   "execution_count": 173,
   "id": "dc080fa1",
   "metadata": {},
   "outputs": [
    {
     "data": {
      "text/plain": [
       "[(3+4j), 'com', 'com', 'com', True, False, 'sparta']"
      ]
     },
     "execution_count": 173,
     "metadata": {},
     "output_type": "execute_result"
    }
   ],
   "source": [
    "l.pop()\n",
    "l \n"
   ]
  },
  {
   "cell_type": "code",
   "execution_count": 175,
   "id": "7293d594",
   "metadata": {},
   "outputs": [
    {
     "data": {
      "text/plain": [
       "['d', 'b', 'a', 'c']"
      ]
     },
     "execution_count": 175,
     "metadata": {},
     "output_type": "execute_result"
    }
   ],
   "source": [
    "l2=['d','b','a','c'] \n",
    "l2"
   ]
  },
  {
   "cell_type": "code",
   "execution_count": 178,
   "id": "e4ffb579",
   "metadata": {},
   "outputs": [
    {
     "data": {
      "text/plain": [
       "['a', 'b', 'c', 'd']"
      ]
     },
     "execution_count": 178,
     "metadata": {},
     "output_type": "execute_result"
    }
   ],
   "source": [
    "l2.sort() \n",
    "l2"
   ]
  },
  {
   "cell_type": "code",
   "execution_count": 179,
   "id": "327458df",
   "metadata": {},
   "outputs": [
    {
     "data": {
      "text/plain": [
       "[1, 2, 3]"
      ]
     },
     "execution_count": 179,
     "metadata": {},
     "output_type": "execute_result"
    }
   ],
   "source": [
    "l1=[1,2,3]\n",
    "l1"
   ]
  },
  {
   "cell_type": "code",
   "execution_count": 181,
   "id": "3955a331",
   "metadata": {},
   "outputs": [
    {
     "data": {
      "text/plain": [
       "[1, 2, 3, 'a', 'b', 'c', 'd']"
      ]
     },
     "execution_count": 181,
     "metadata": {},
     "output_type": "execute_result"
    }
   ],
   "source": [
    "l1+l2"
   ]
  },
  {
   "cell_type": "code",
   "execution_count": 183,
   "id": "8ff5ee7c",
   "metadata": {},
   "outputs": [
    {
     "data": {
      "text/plain": [
       "[1, 2, 3, 1, 2, 3, 1, 2, 3]"
      ]
     },
     "execution_count": 183,
     "metadata": {},
     "output_type": "execute_result"
    }
   ],
   "source": [
    "l1*3"
   ]
  },
  {
   "cell_type": "code",
   "execution_count": 186,
   "id": "a3ca1af3",
   "metadata": {},
   "outputs": [],
   "source": [
    "#dictionary(mutable) "
   ]
  },
  {
   "cell_type": "code",
   "execution_count": 188,
   "id": "2cac7bd6",
   "metadata": {},
   "outputs": [
    {
     "data": {
      "text/plain": [
       "{'apple': 50, 'mango': 100, 'banana': 150, 'grapes': 200}"
      ]
     },
     "execution_count": 188,
     "metadata": {},
     "output_type": "execute_result"
    }
   ],
   "source": [
    "d1={'apple':50,'mango':100,'banana':150,'grapes':200}\n",
    "d1 "
   ]
  },
  {
   "cell_type": "code",
   "execution_count": 191,
   "id": "f73dfe78",
   "metadata": {},
   "outputs": [
    {
     "data": {
      "text/plain": [
       "dict"
      ]
     },
     "execution_count": 191,
     "metadata": {},
     "output_type": "execute_result"
    }
   ],
   "source": [
    "type(d1) "
   ]
  },
  {
   "cell_type": "code",
   "execution_count": 193,
   "id": "f4e06797",
   "metadata": {},
   "outputs": [
    {
     "data": {
      "text/plain": [
       "dict_keys(['apple', 'mango', 'banana', 'grapes'])"
      ]
     },
     "execution_count": 193,
     "metadata": {},
     "output_type": "execute_result"
    }
   ],
   "source": [
    "d1.keys()"
   ]
  },
  {
   "cell_type": "code",
   "execution_count": 195,
   "id": "60c9c5f5",
   "metadata": {},
   "outputs": [
    {
     "data": {
      "text/plain": [
       "dict_values([50, 100, 150, 200])"
      ]
     },
     "execution_count": 195,
     "metadata": {},
     "output_type": "execute_result"
    }
   ],
   "source": [
    "d1.values() "
   ]
  },
  {
   "cell_type": "code",
   "execution_count": 197,
   "id": "08e7634a",
   "metadata": {},
   "outputs": [
    {
     "data": {
      "text/plain": [
       "{'apple': 50, 'mango': 100, 'banana': 150, 'grapes': 200, 'papaya': 250}"
      ]
     },
     "execution_count": 197,
     "metadata": {},
     "output_type": "execute_result"
    }
   ],
   "source": [
    "d1['papaya']=250 \n",
    "d1"
   ]
  },
  {
   "cell_type": "code",
   "execution_count": 201,
   "id": "42e62292",
   "metadata": {},
   "outputs": [
    {
     "data": {
      "text/plain": [
       "{'apple': 70, 'mango': 100, 'banana': 150, 'grapes': 200, 'papaya': 250}"
      ]
     },
     "execution_count": 201,
     "metadata": {},
     "output_type": "execute_result"
    }
   ],
   "source": [
    "d1['apple']=70\n",
    "d1 "
   ]
  },
  {
   "cell_type": "code",
   "execution_count": 203,
   "id": "55f49655",
   "metadata": {},
   "outputs": [
    {
     "data": {
      "text/plain": [
       "{'apple': 70,\n",
       " 'mango': 100,\n",
       " 'banana': 150,\n",
       " 'grapes': 200,\n",
       " 'papaya': 250,\n",
       " 'guava': 300,\n",
       " 'pomegrante': 350}"
      ]
     },
     "execution_count": 203,
     "metadata": {},
     "output_type": "execute_result"
    }
   ],
   "source": [
    "d2={'guava':300,'pomegrante':350} \n",
    "d1.update(d2)\n",
    "d1"
   ]
  },
  {
   "cell_type": "code",
   "execution_count": 210,
   "id": "3f7a348b",
   "metadata": {},
   "outputs": [
    {
     "ename": "KeyError",
     "evalue": "'guava'",
     "output_type": "error",
     "traceback": [
      "\u001b[1;31m---------------------------------------------------------------------------\u001b[0m",
      "\u001b[1;31mKeyError\u001b[0m                                  Traceback (most recent call last)",
      "\u001b[1;32m<ipython-input-210-1b94767ea30d>\u001b[0m in \u001b[0;36m<module>\u001b[1;34m\u001b[0m\n\u001b[1;32m----> 1\u001b[1;33m \u001b[0md1\u001b[0m\u001b[1;33m.\u001b[0m\u001b[0mpop\u001b[0m\u001b[1;33m(\u001b[0m\u001b[1;34m'guava'\u001b[0m\u001b[1;33m)\u001b[0m\u001b[1;33m\u001b[0m\u001b[1;33m\u001b[0m\u001b[0m\n\u001b[0m",
      "\u001b[1;31mKeyError\u001b[0m: 'guava'"
     ]
    }
   ],
   "source": [
    "d1.pop('guava')\n"
   ]
  },
  {
   "cell_type": "code",
   "execution_count": 212,
   "id": "83149829",
   "metadata": {},
   "outputs": [
    {
     "data": {
      "text/plain": [
       "{'apple': 70, 'mango': 100, 'banana': 150, 'grapes': 200, 'papaya': 250}"
      ]
     },
     "execution_count": 212,
     "metadata": {},
     "output_type": "execute_result"
    }
   ],
   "source": [
    "d1"
   ]
  },
  {
   "cell_type": "code",
   "execution_count": 213,
   "id": "99972288",
   "metadata": {},
   "outputs": [],
   "source": [
    "#sets(mutable):duplicate values are not allowed "
   ]
  },
  {
   "cell_type": "code",
   "execution_count": 218,
   "id": "c05732a1",
   "metadata": {},
   "outputs": [
    {
     "data": {
      "text/plain": [
       "{1, 2, 3, 'raj'}"
      ]
     },
     "execution_count": 218,
     "metadata": {},
     "output_type": "execute_result"
    }
   ],
   "source": [
    "s1={1,2,3,'raj','raj'} \n",
    "s1"
   ]
  },
  {
   "cell_type": "code",
   "execution_count": 220,
   "id": "1cee3d67",
   "metadata": {},
   "outputs": [
    {
     "data": {
      "text/plain": [
       "set"
      ]
     },
     "execution_count": 220,
     "metadata": {},
     "output_type": "execute_result"
    }
   ],
   "source": [
    "type(s1)"
   ]
  },
  {
   "cell_type": "code",
   "execution_count": 222,
   "id": "f1b9f990",
   "metadata": {},
   "outputs": [
    {
     "data": {
      "text/plain": [
       "{1, 2, 3, 'hello', 'raj'}"
      ]
     },
     "execution_count": 222,
     "metadata": {},
     "output_type": "execute_result"
    }
   ],
   "source": [
    "s1.add('hello')\n",
    "s1"
   ]
  },
  {
   "cell_type": "code",
   "execution_count": 224,
   "id": "7bd71684",
   "metadata": {},
   "outputs": [
    {
     "data": {
      "text/plain": [
       "{1, 10, 2, 20, 3, 'hello', 'raj', 'san'}"
      ]
     },
     "execution_count": 224,
     "metadata": {},
     "output_type": "execute_result"
    }
   ],
   "source": [
    "s1.update([10,'san',20])\n",
    "s1"
   ]
  },
  {
   "cell_type": "code",
   "execution_count": 227,
   "id": "1b8b5f91",
   "metadata": {},
   "outputs": [
    {
     "data": {
      "text/plain": [
       "{1, 2, 3, 'hello', 'raj', 'san'}"
      ]
     },
     "execution_count": 227,
     "metadata": {},
     "output_type": "execute_result"
    }
   ],
   "source": [
    "s1.remove(10) \n",
    "s1 "
   ]
  },
  {
   "cell_type": "code",
   "execution_count": 229,
   "id": "325bd917",
   "metadata": {},
   "outputs": [
    {
     "data": {
      "text/plain": [
       "{3.5, False, True, 'hello', 'san'}"
      ]
     },
     "execution_count": 229,
     "metadata": {},
     "output_type": "execute_result"
    }
   ],
   "source": [
    "s2={'hello',3.5,False,True,'san'}\n",
    "s2 "
   ]
  },
  {
   "cell_type": "code",
   "execution_count": 232,
   "id": "6382a326",
   "metadata": {},
   "outputs": [
    {
     "data": {
      "text/plain": [
       "{1, 2, 3, 3.5, False, 'hello', 'raj', 'san'}"
      ]
     },
     "execution_count": 232,
     "metadata": {},
     "output_type": "execute_result"
    }
   ],
   "source": [
    "s1.union(s2)"
   ]
  },
  {
   "cell_type": "code",
   "execution_count": 234,
   "id": "d390451d",
   "metadata": {},
   "outputs": [
    {
     "data": {
      "text/plain": [
       "{True, 'hello', 'san'}"
      ]
     },
     "execution_count": 234,
     "metadata": {},
     "output_type": "execute_result"
    }
   ],
   "source": [
    "s1.intersection(s2) "
   ]
  },
  {
   "cell_type": "code",
   "execution_count": 235,
   "id": "558ae38f",
   "metadata": {},
   "outputs": [],
   "source": [
    "#conditional staments and looping "
   ]
  },
  {
   "cell_type": "code",
   "execution_count": 241,
   "id": "22871eb7",
   "metadata": {},
   "outputs": [
    {
     "name": "stdout",
     "output_type": "stream",
     "text": [
      "b is greater than a\n"
     ]
    }
   ],
   "source": [
    "a=10 \n",
    "b=20 \n",
    "if (a>b) :\n",
    "    print(\"a is greater than b\") \n",
    "else:\n",
    "        print(\"b is greater than a\") "
   ]
  },
  {
   "cell_type": "code",
   "execution_count": 245,
   "id": "79a13649",
   "metadata": {},
   "outputs": [
    {
     "name": "stdout",
     "output_type": "stream",
     "text": [
      " c is greatest\n"
     ]
    }
   ],
   "source": [
    "a=10 \n",
    "b=20 \n",
    "c=30 \n",
    "if (a>b) & (a>c):\n",
    "    print(\"a is greatest\") \n",
    "elif (b>a) & (b>c) :\n",
    "        print(\"b is greatest\") \n",
    "else :\n",
    "            print(\" c is greatest\") "
   ]
  },
  {
   "cell_type": "code",
   "execution_count": 250,
   "id": "b4e2dfdb",
   "metadata": {},
   "outputs": [
    {
     "data": {
      "text/plain": [
       "('a', 'b', 'c')"
      ]
     },
     "execution_count": 250,
     "metadata": {},
     "output_type": "execute_result"
    }
   ],
   "source": [
    "#if with tuples \n",
    "tup=('a','b','c')  \n",
    "tup\n"
   ]
  },
  {
   "cell_type": "code",
   "execution_count": 252,
   "id": "6e950a7c",
   "metadata": {},
   "outputs": [
    {
     "name": "stdout",
     "output_type": "stream",
     "text": [
      "value is present in tup\n"
     ]
    }
   ],
   "source": [
    "if 'a' in tup:\n",
    "    print(\"value is present in tup\")"
   ]
  },
  {
   "cell_type": "code",
   "execution_count": 255,
   "id": "0f313924",
   "metadata": {},
   "outputs": [
    {
     "name": "stdout",
     "output_type": "stream",
     "text": [
      "value is not present in tup\n"
     ]
    }
   ],
   "source": [
    "if 'z' in tup:\n",
    "    print(\"value is present in tup\")\n",
    "else:\n",
    "        print(\"value is not present in tup\")"
   ]
  },
  {
   "cell_type": "code",
   "execution_count": 260,
   "id": "1cb1d2ef",
   "metadata": {},
   "outputs": [
    {
     "data": {
      "text/plain": [
       "['a', 'b', 'c']"
      ]
     },
     "execution_count": 260,
     "metadata": {},
     "output_type": "execute_result"
    }
   ],
   "source": [
    "#if with list \n",
    "l=['a','b','c'] \n",
    "l"
   ]
  },
  {
   "cell_type": "code",
   "execution_count": 262,
   "id": "2e17782e",
   "metadata": {},
   "outputs": [],
   "source": [
    "if l[1]=='b':\n",
    "    l[1]='z'"
   ]
  },
  {
   "cell_type": "code",
   "execution_count": 264,
   "id": "1d05d158",
   "metadata": {},
   "outputs": [
    {
     "data": {
      "text/plain": [
       "['a', 'z', 'c']"
      ]
     },
     "execution_count": 264,
     "metadata": {},
     "output_type": "execute_result"
    }
   ],
   "source": [
    "l"
   ]
  },
  {
   "cell_type": "code",
   "execution_count": 266,
   "id": "8cfbc266",
   "metadata": {},
   "outputs": [
    {
     "data": {
      "text/plain": [
       "{'k1': 10, 'k2': 20, 'k3': 30}"
      ]
     },
     "execution_count": 266,
     "metadata": {},
     "output_type": "execute_result"
    }
   ],
   "source": [
    "# if with dictionary \n",
    "d={'k1':10,'k2':20,'k3':30} \n",
    "d"
   ]
  },
  {
   "cell_type": "code",
   "execution_count": 268,
   "id": "f1be007f",
   "metadata": {},
   "outputs": [],
   "source": [
    "if d['k3']==30:\n",
    "    d['k3']=d['k3']+100 "
   ]
  },
  {
   "cell_type": "code",
   "execution_count": 270,
   "id": "f12d162e",
   "metadata": {},
   "outputs": [
    {
     "data": {
      "text/plain": [
       "{'k1': 10, 'k2': 20, 'k3': 130}"
      ]
     },
     "execution_count": 270,
     "metadata": {},
     "output_type": "execute_result"
    }
   ],
   "source": [
    "d"
   ]
  }
 ],
 "metadata": {
  "kernelspec": {
   "display_name": "Python 3",
   "language": "python",
   "name": "python3"
  },
  "language_info": {
   "codemirror_mode": {
    "name": "ipython",
    "version": 3
   },
   "file_extension": ".py",
   "mimetype": "text/x-python",
   "name": "python",
   "nbconvert_exporter": "python",
   "pygments_lexer": "ipython3",
   "version": "3.8.8"
  }
 },
 "nbformat": 4,
 "nbformat_minor": 5
}
