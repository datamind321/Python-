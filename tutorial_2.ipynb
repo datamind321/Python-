{
 "cells": [
  {
   "cell_type": "code",
   "execution_count": 48,
   "id": "9321c975",
   "metadata": {},
   "outputs": [
    {
     "data": {
      "text/plain": [
       "dict"
      ]
     },
     "execution_count": 48,
     "metadata": {},
     "output_type": "execute_result"
    }
   ],
   "source": [
    "#Data-Types\n",
    "a=10       #integer\n",
    "b=2.5      #Float\n",
    "c=\"python\" #String\n",
    "d=True     #Boolean\n",
    "e=3+4j     #Complex\n",
    "f=(1,2,\"STD\",3.5,2+3j)   #touple\n",
    "g=[1,2,\"STD\",3.5,2+3j]   #List\n",
    "h={1,2,3,4,5,6,7,8,9}    #set\n",
    "i={\"id\":102,\"name\":\"Raj\",\"age\":18}  #Dictionary\n",
    "type(i)                            #check of data-type \n"
   ]
  },
  {
   "cell_type": "code",
   "execution_count": 49,
   "id": "82bfd8b6",
   "metadata": {},
   "outputs": [
    {
     "name": "stdout",
     "output_type": "stream",
     "text": [
      "30\n",
      "True\n",
      "20\n",
      "0\n",
      "0.5\n",
      "False\n",
      "True\n"
     ]
    }
   ],
   "source": [
    "#operators in python \n",
    "a=10\n",
    "b=20\n",
    "print(a+b)                 #Arithmetic-Operator\n",
    "print(a!=b)                #Comparison operator\n",
    "print(a and b)             #logical operator\n",
    "print(a & b)               #Bitwise-Operator\n",
    "a /=b                      #Assignment-Operator\n",
    "print(a)                   #------------------#\n",
    "print(\"STD\" not in f)      #Membership-Operator\n",
    "print(a is not b)          #Identity-Operator\n",
    "\n"
   ]
  },
  {
   "cell_type": "code",
   "execution_count": 56,
   "id": "49f532cc",
   "metadata": {},
   "outputs": [
    {
     "data": {
      "text/plain": [
       "35"
      ]
     },
     "execution_count": 56,
     "metadata": {},
     "output_type": "execute_result"
    }
   ],
   "source": [
    "#Variables in Python \n",
    "#LOcal Variable\n",
    "#Global Variable\n",
    "\n",
    "c=5       #global\n",
    "\n",
    "def myfun():\n",
    "    a=10  #Local\n",
    "    b=20  #Local\n",
    "    return a+b+c\n",
    "myfun() \n"
   ]
  },
  {
   "cell_type": "code",
   "execution_count": 89,
   "id": "7aff1b72",
   "metadata": {},
   "outputs": [
    {
     "name": "stdout",
     "output_type": "stream",
     "text": [
      "[1, 2, 'san', 'panraj', (3+4j), 2.5, 1, 2, 'san', 'panraj', (3+4j), 2.5, 1, 2, 'san', 'panraj', (3+4j), 2.5]\n",
      "[1, 2, 'san', 'panraj', (3+4j), 2.5, 5, 6, 7, 'cherry']\n",
      "[1, 2, 4, 'panraj', (3+4j), 2.5]\n",
      "1\n",
      "2\n",
      "4\n",
      "panraj\n",
      "(3+4j)\n",
      "2.5\n",
      "[1, 2, 4, 'panraj', (3+4j), 2.5, 3]\n",
      "[1, 2, 'aws', 4, 'panraj', (3+4j), 2.5, 3]\n",
      "[1, 2, 'aws', 4, 'panraj', (3+4j), 2.5, 3, 5, 6, 7, 'cherry']\n",
      "[1, 2, 'aws', 4, 'panraj', (3+4j), 2.5, 3, 5, 6, 7, 'cherry', 'tup', 3.9]\n",
      "[]\n",
      "[0, 1, 2, 3, 4]\n",
      "['hello', 'hello', 'hello']\n",
      "['apple', 'mango', 'orange']\n",
      "[9, 8, 7, 6, 1]\n",
      "[1, 2, 'aws', 4, 'panraj', (3+4j), 2.5, 3, 5, 6, 7, 'cherry', 'tup', 3.9]\n"
     ]
    }
   ],
   "source": [
    "l1=[1,2,\"san\",'panraj',3+4j,2.5]\n",
    "l2=[5,6,7,'cherry']\n",
    "type(l1)         #check type\n",
    "len(l1)          #length of an list\n",
    "l1[-3:-1]        #Access list Element\n",
    "print(l1*3)      #repeation of list\n",
    "print(l1+l2)    #concatenation of two list\n",
    "l1[2]=4         #---------------\n",
    "print(l1)       #updating a value\n",
    "for i in l1:    #loop through a list\n",
    "    print(i)\n",
    "    \n",
    "l1.append(3)     #insertion of an list\n",
    "print(l1)\n",
    "l1.insert(2,'aws')   #add value of an list of specified index\n",
    "print(l1)\n",
    "l1.extend(l2)        #add two list of an item\n",
    "print(l1)\n",
    "l3={'tup',3.9}\n",
    "l1.extend(l3)       # add itreable object(set,dict,touple)\n",
    "print(l1)\n",
    "#list compherision\n",
    "newlist=[]\n",
    "fruits=['apple','mango','banana']\n",
    "for x in fruits:\n",
    "    if \"orange\" in x:\n",
    "        newlist.append(x)\n",
    "print(newlist)\n",
    "#---------------\n",
    "newlist=[x for x in range(10) if x<5]  #with condition\n",
    "print(newlist) \n",
    "newlist=['hello' for x in fruits]\n",
    "print(newlist)\n",
    "newlist=[x if x!='banana' else 'orange' for x in fruits]\n",
    "print(newlist)\n",
    "list=[1,8,9,6,7]\n",
    "list.sort(reverse=True)\n",
    "print(list) \n",
    "#----::::::::::-----\n",
    "list5=l1.copy()\n",
    "print(list5)\n",
    "#-------::::::------\n",
    "\n",
    "\n",
    "\n",
    "\n",
    "    \n",
    "    \n",
    "    \n",
    "\n"
   ]
  },
  {
   "cell_type": "code",
   "execution_count": 4,
   "id": "68782c90",
   "metadata": {},
   "outputs": [
    {
     "name": "stdout",
     "output_type": "stream",
     "text": [
      "(1, 2, 3, 'san', 4.8, (3+4j), 'berry', 88, 99, 77, 'nike')\n",
      "('apple', 'banana', 'cherry')\n"
     ]
    }
   ],
   "source": [
    "#Python-Touple[imutable or unchanged] \n",
    "tup1=(1,2,3,'san',4.8,3+4j,'berry')\n",
    "tup2=tuple((88,99,77,'nike')) #using constructor tuple()\n",
    "type(tup2)\n",
    "len(tup2)\n",
    "print(tup1+tup2)\n",
    "tup1[-3:-1]\n",
    "#modify tuple values \n",
    "x=('apple','banana','berry')\n",
    "y= list(x)\n",
    "y[2]='cherry'\n",
    "x=tuple(y)\n",
    "print(x)\n",
    "\n"
   ]
  },
  {
   "cell_type": "code",
   "execution_count": 127,
   "id": "39d56b93",
   "metadata": {},
   "outputs": [
    {
     "name": "stdout",
     "output_type": "stream",
     "text": [
      "{'id': 102, 'name': 'Raj', 'age': 18, 'skill': 'python'}\n",
      "{'id': 102, 'name': 'Raj', 'age': 21, 'skill': 'python'}\n",
      "{'id': 102, 'name': 'Raj', 'age': 21}\n",
      "{}\n",
      "<class 'dict'>\n",
      "{'id': 102, 'name': 'Raj', 'age': 18}\n",
      "{'child1': {'name': 'elvis', 'year': 2004}, 'child2': {'name': 'emil', 'year': 2005}, 'child3': {'name': 'elvis', 'year': 2009}}\n"
     ]
    },
    {
     "data": {
      "text/plain": [
       "dict"
      ]
     },
     "execution_count": 127,
     "metadata": {},
     "output_type": "execute_result"
    }
   ],
   "source": [
    "dict={\"id\":102,\"name\":\"Raj\",\"age\":18}\n",
    "type(dict)\n",
    "len(dict)\n",
    "dict.keys()\n",
    "dict.values()\n",
    "#add item in dict\n",
    "\n",
    "dict['skill']='python'\n",
    "print(dict)\n",
    "#change values \n",
    "dict['age']=21\n",
    "print(dict)\n",
    "#remove values \n",
    "dict.pop('skill')\n",
    "print(dict)\n",
    "dict.clear()\n",
    "print(dict)\n",
    "del dict\n",
    "print(dict)\n",
    "#copy a dict\n",
    "i={\"id\":102,\"name\":\"Raj\",\"age\":18}\n",
    "mydict=i.copy()\n",
    "print(mydict)\n",
    "#nested-dict\n",
    "myfamily={'child1':{'name':'elvis','year':2004},'child2':{'name':'emil','year':2005},'child3':{'name':'elvis','year':2009}}\n",
    "print(myfamily)\n",
    "type(myfamily)\n"
   ]
  },
  {
   "cell_type": "code",
   "execution_count": 142,
   "id": "03bf61cd",
   "metadata": {},
   "outputs": [
    {
     "name": "stdout",
     "output_type": "stream",
     "text": [
      "cherry\n",
      "1\n",
      "2\n",
      "3\n",
      "4.2\n",
      "apple\n",
      "(3+4j)\n",
      "banana\n",
      "True\n",
      "{'cherry', 1, 2, 3, 4.2, 'apple', (3+4j), 'banana', 'orange'}\n",
      "{'cherry', 1, 2, 3, 4.2, (3+4j), 'banana', 'orange'}\n",
      "{'cherry', 1, 2, 3, 4.2, 'ee', 'me', (3+4j), 'banana', 'orange', 'cs', 'ce', 'it'}\n",
      "{3, 4, 5}\n"
     ]
    }
   ],
   "source": [
    "#python sets \n",
    "s1={1,2,3,'apple','banana','cherry',4.2,3+4j}\n",
    "type(s1)\n",
    "len(s1)\n",
    "for x in s1:\n",
    "    print(x)\n",
    "print('apple' in s1)\n",
    "s1.add('orange')\n",
    "print(s1)\n",
    "s1.remove('apple')\n",
    "print(s1)\n",
    "s2=('cs','it','ee','ce','me')\n",
    "s1.update(s2)\n",
    "print(s1)\n",
    "#join sets \n",
    "s2={1,2,3,4,5}\n",
    "s3={3,4,5,6,7,8,9}\n",
    "s4=s2.union(s3)\n",
    "s5=s2.intersection(s3)\n",
    "print(s5) "
   ]
  },
  {
   "cell_type": "code",
   "execution_count": 3,
   "id": "2a557e7d",
   "metadata": {},
   "outputs": [
    {
     "name": "stdout",
     "output_type": "stream",
     "text": [
      "hello raj\n"
     ]
    }
   ],
   "source": [
    "#python function \n",
    "def myfun2(fname):\n",
    "    print(\"hello\",fname)\n",
    "myfun2('raj')"
   ]
  },
  {
   "cell_type": "code",
   "execution_count": 2,
   "id": "579f950a",
   "metadata": {},
   "outputs": [
    {
     "name": "stdout",
     "output_type": "stream",
     "text": [
      "50\n"
     ]
    }
   ],
   "source": [
    "#lambda function \n",
    "x=lambda a,b:a*10\n",
    "print(x(5,2)) "
   ]
  },
  {
   "cell_type": "code",
   "execution_count": 5,
   "id": "779d498c",
   "metadata": {},
   "outputs": [
    {
     "name": "stdout",
     "output_type": "stream",
     "text": [
      "[123]\n"
     ]
    }
   ],
   "source": [
    "l2=[10,22,37,41,100,123,29]\n",
    "oddlist=list(filter(lambda x:(x%3==0),l2))\n",
    "print(oddlist)  "
   ]
  },
  {
   "cell_type": "code",
   "execution_count": 17,
   "id": "923d37eb",
   "metadata": {},
   "outputs": [
    {
     "data": {
      "image/png": "[encoded data removed]",
      "text/plain": [
       "<Figure size 432x288 with 2 Axes>"
      ]
     },
     "metadata": {
      "needs_background": "light"
     },
     "output_type": "display_data"
    }
   ],
   "source": [
    "#plot\n",
    "import matplotlib.pyplot as plt \n",
    "import numpy as np\n",
    "x=np.array([1,9,8,6,5,3,7,8,5,2])\n",
    "y1=2*x\n",
    "y2=3*x\n",
    "plt.title(\"plot\")\n",
    "plt.xlabel(\"x-axis\")\n",
    "plt.ylabel(\"y-axis\")\n",
    "plt.grid(True)\n",
    "plt.subplot(1,2,1)\n",
    "plt.plot(x,y1,color='r',linestyle=':',linewidth=2)\n",
    "plt.subplot(1,2,2)\n",
    "plt.plot(x,y2,color='g')\n",
    "plt.show() "
   ]
  },
  {
   "cell_type": "code",
   "execution_count": 18,
   "id": "d48228bc",
   "metadata": {},
   "outputs": [],
   "source": [
    "#bar-plot"
   ]
  },
  {
   "cell_type": "code",
   "execution_count": 26,
   "id": "af6dfb07",
   "metadata": {},
   "outputs": [
    {
     "data": {
      "image/png": "[encoded data removed]",
      "text/plain": [
       "<Figure size 432x288 with 1 Axes>"
      ]
     },
     "metadata": {
      "needs_background": "light"
     },
     "output_type": "display_data"
    }
   ],
   "source": [
    "student={'raj':77,'san':75,'john':89,'emil':56,'elvis':67,'marta':72,'monty':12}\n",
    "name=list(student.keys())\n",
    "values=list(student.values())\n",
    "plt.title(\"Student Data\")\n",
    "plt.xlabel(\"name\")\n",
    "plt.ylabel(\"Marks\")\n",
    "plt.bar(name,values)\n",
    "plt.show() "
   ]
  },
  {
   "cell_type": "code",
   "execution_count": 27,
   "id": "75d546aa",
   "metadata": {},
   "outputs": [],
   "source": [
    "#Scatter-plot"
   ]
  },
  {
   "cell_type": "code",
   "execution_count": 42,
   "id": "d90fdcd5",
   "metadata": {},
   "outputs": [
    {
     "data": {
      "image/png": "[encoded data removed]",
      "text/plain": [
       "<Figure size 432x288 with 2 Axes>"
      ]
     },
     "metadata": {
      "needs_background": "light"
     },
     "output_type": "display_data"
    }
   ],
   "source": [
    "x=[10,20,30,40,50,60,70,80,90]\n",
    "a=[2,3,5,7,9,6,1,0,4]\n",
    "b=[3,6,9,1,4,9,7,4,2]\n",
    "\n",
    "plt.subplot(1,2,1)\n",
    "plt.title(\"Scatter Sub Plot\")\n",
    "plt.xlabel(\"data\")\n",
    "plt.ylabel(\"Values\")\n",
    "plt.scatter(x,a,c='r',marker='*',s=50)\n",
    "plt.subplot(1,2,2)\n",
    "plt.title(\"Scatter Sub Plot\")\n",
    "plt.xlabel(\"data\")\n",
    "plt.ylabel(\"Values\")\n",
    "plt.scatter(x,b,c='b',marker='+',s=50)\n",
    "plt.show() "
   ]
  },
  {
   "cell_type": "code",
   "execution_count": 49,
   "id": "d68cac2e",
   "metadata": {},
   "outputs": [
    {
     "data": {
      "image/png": "[encoded data removed]",
      "text/plain": [
       "<Figure size 432x288 with 1 Axes>"
      ]
     },
     "metadata": {
      "needs_background": "light"
     },
     "output_type": "display_data"
    }
   ],
   "source": [
    "#Historagram\n",
    "data=[34,78,56,42,86,90]\n",
    "plt.hist(data,color='g',bins=3)\n",
    "plt.show()  "
   ]
  },
  {
   "cell_type": "code",
   "execution_count": 93,
   "id": "3047ff3d",
   "metadata": {},
   "outputs": [
    {
     "name": "stdout",
     "output_type": "stream",
     "text": [
      "a     50\n",
      "b    100\n",
      "c    150\n",
      "d    200\n",
      "dtype: int64\n",
      "    name  marks\n",
      "0    bob     76\n",
      "1    sam     25\n",
      "2   john     92\n",
      "3    san     89\n",
      "4   emil     99\n",
      "5  elvis     67\n"
     ]
    }
   ],
   "source": [
    "#pandas tutorial\n",
    "import pandas as pd \n",
    "iris=pd.read_csv('iris.csv')\n",
    "# iris.iloc[5:11,0:]\n",
    "# iris.loc[0:9,('sepal.length','petal.length')]\n",
    "# iris.sort_values(by='sepal.length')\n",
    "# iris['variety'].value_counts() \n",
    "iris.drop('sepal.width',axis=1)\n",
    "iris.drop([1,2,3],axis=0) \n",
    "s1=pd.Series([10,20,30,40],index=['a','b','c','d'])\n",
    "print(s1*5)\n",
    "s2=pd.DataFrame({'name':['bob','sam','john','san','emil','elvis'],'marks':[76,25,92,89,99,67]})\n",
    "print(s2) \n",
    "\n",
    "\n"
   ]
  },
  {
   "cell_type": "code",
   "execution_count": 94,
   "id": "495cc2f7",
   "metadata": {},
   "outputs": [],
   "source": [
    "#box-plot"
   ]
  },
  {
   "cell_type": "code",
   "execution_count": 102,
   "id": "d436c73d",
   "metadata": {},
   "outputs": [
    {
     "data": {
      "image/png": "[encoded data removed]",
      "text/plain": [
       "<Figure size 432x288 with 1 Axes>"
      ]
     },
     "metadata": {
      "needs_background": "light"
     },
     "output_type": "display_data"
    }
   ],
   "source": [
    "one=[7,9,8,5,6,3,2,1,4]\n",
    "two=[8,9,7,5,3,9,6,0,7]\n",
    "three=[3,5,8,9,4,3,1,7,0]\n",
    "data=list([one,two,three])\n",
    "plt.title(\"violin plot\")\n",
    "plt.xlabel(\"data\")\n",
    "plt.ylabel(\"values\")\n",
    "plt.violinplot(data)\n",
    "plt.show() "
   ]
  },
  {
   "cell_type": "code",
   "execution_count": 103,
   "id": "1d5b7acf",
   "metadata": {},
   "outputs": [],
   "source": [
    "#pie-chart "
   ]
  },
  {
   "cell_type": "code",
   "execution_count": 107,
   "id": "1b88ebdc",
   "metadata": {},
   "outputs": [
    {
     "data": {
      "image/png": "[encoded data removed]",
      "text/plain": [
       "<Figure size 432x288 with 1 Axes>"
      ]
     },
     "metadata": {},
     "output_type": "display_data"
    }
   ],
   "source": [
    "fruit=['apple','mango','banana','orange']\n",
    "quantity=[160,70,40,50]\n",
    "plt.pie(quantity,labels=fruit,autopct='%0.f%%',colors=['red','green','yellow','orange'])\n",
    "plt.show() "
   ]
  },
  {
   "cell_type": "code",
   "execution_count": 108,
   "id": "4bfa8f24",
   "metadata": {},
   "outputs": [],
   "source": [
    "#Do-nut"
   ]
  },
  {
   "cell_type": "code",
   "execution_count": 113,
   "id": "e45fbe9a",
   "metadata": {},
   "outputs": [
    {
     "data": {
      "image/png": "[encoded data removed]",
      "text/plain": [
       "<Figure size 432x288 with 1 Axes>"
      ]
     },
     "metadata": {},
     "output_type": "display_data"
    }
   ],
   "source": [
    "plt.pie(quantity,labels=fruit,radius=1)\n",
    "plt.pie([1],colors=['w'],radius=.5)\n",
    "plt.show()      "
   ]
  },
  {
   "cell_type": "code",
   "execution_count": 114,
   "id": "06ff7211",
   "metadata": {},
   "outputs": [],
   "source": [
    "#numpy turial "
   ]
  },
  {
   "cell_type": "code",
   "execution_count": 152,
   "id": "44668798",
   "metadata": {},
   "outputs": [
    {
     "name": "stdout",
     "output_type": "stream",
     "text": [
      "[[[1 1]\n",
      "  [2 4]\n",
      "  [3 5]\n",
      "  [4 6]\n",
      "  [5 7]]]\n",
      "(array([1, 3], dtype=int64),)\n",
      "[1 4 5 6 7]\n",
      "[1 3 5]\n"
     ]
    }
   ],
   "source": [
    "import numpy as np\n",
    "x=np.array([1,2,3,4,5])\n",
    "y=np.array([1,4,5,6,7])\n",
    "#---------join---------\n",
    "# arr=np.concatenate((x,y))\n",
    "# print(arr)\n",
    "arr=np.dstack((x,y))\n",
    "print(arr)\n",
    "#--------searching-----\n",
    "z=np.where(x%2==0)\n",
    "print(z)\n",
    "#--------sorting----\n",
    "print(np.sort(y))\n",
    "#-------fiter----\n",
    "x2=[True,False,True,False,True]\n",
    "new_arr=x[x2]\n",
    "print(new_arr)\n"
   ]
  }
 ],
 "metadata": {
  "kernelspec": {
   "display_name": "Python 3",
   "language": "python",
   "name": "python3"
  },
  "language_info": {
   "codemirror_mode": {
    "name": "ipython",
    "version": 3
   },
   "file_extension": ".py",
   "mimetype": "text/x-python",
   "name": "python",
   "nbconvert_exporter": "python",
   "pygments_lexer": "ipython3",
   "version": "3.8.8"
  }
 },
 "nbformat": 4,
 "nbformat_minor": 5
}
